{
 "cells": [
  {
   "cell_type": "code",
   "execution_count": 8,
   "metadata": {},
   "outputs": [],
   "source": [
    "import sys, cv2\n",
    "import numpy as np\n",
    "#import tracktor_revised as tr\n",
    "import matplotlib.pyplot as plt\n",
    "import pickle\n",
    "import os\n",
    "from os.path import join\n",
    "import collections\n",
    "\n",
    "from importlib import reload\n",
    "import platform\n",
    "import re\n",
    "import datetime\n",
    "import multiprocessing\n",
    "from glob import glob\n",
    "import logging\n",
    "from tracker.tank import Tank\n",
    "from tracker.tracker import Tracker\n",
    "from tracker import utils"
   ]
  },
  {
   "cell_type": "code",
   "execution_count": 2,
   "metadata": {},
   "outputs": [],
   "source": [
    "# with open('partialFish.pkl','rb') as f:\n",
    "#     fish = pickle.load(f)\n",
    "\n",
    "# # with open('sortedFish.pik','rb') as f:\n",
    "# #     sortedFish = pickle.load(f)\n",
    "\n",
    "# # posU=sortedFish[0]\n",
    "# # nonOverlappingRange=sortedFish[1]\n",
    "# # fishU=sortedFish[2]"
   ]
  },
  {
   "cell_type": "code",
   "execution_count": 3,
   "metadata": {},
   "outputs": [
    {
     "name": "stdout",
     "output_type": "stream",
     "text": [
      "../Fish_Tracking_Data/SF_n2_t2_3113.mp4\n",
      "    {'output_dir': 'symposium-output/SF_n2_t2_3113', 'n_ind': 2}\n"
     ]
    }
   ],
   "source": [
    "''' Select input files to track and an output directory for each. '''\n",
    "\n",
    "tracking_dir = 'symposium-output'\n",
    "\n",
    "# input_files = sorted(glob('../Fish_Tracking_Data/'))\n",
    "input_files = ['../Fish_Tracking_Data/SF_n2_t2_3113.mp4']\n",
    "\n",
    "input_dict = {}\n",
    "for input_file in input_files:\n",
    "    d,fn       = os.path.split(input_file)\n",
    "    fn,ext     = os.path.splitext(fn)\n",
    "    output_dir = os.path.join(tracking_dir,fn)\n",
    "    n_ind      = int(re.findall('_n(\\d+)[^\\d]*_',fn)[0])\n",
    "    input_dict[input_file] = dict( output_dir=output_dir, n_ind=n_ind )\n",
    "\n",
    "for f,D in input_dict.items():\n",
    "    print(f)\n",
    "    print('   ',D)"
   ]
  },
  {
   "cell_type": "code",
   "execution_count": 4,
   "metadata": {},
   "outputs": [],
   "source": [
    "''' Create output directories. Trace tanks. '''\n",
    "\n",
    "for input_file,D in input_dict.items():\n",
    "    tracker = Tracker(input_video=input_file, **D)\n",
    "    \n",
    "    # Create output directory.\n",
    "    tracker.init_directory()\n",
    "    \n",
    "    # Create a link to the input video in the output directory.\n",
    "    input_shortcut = os.path.join(output_dir,'raw'+ext)\n",
    "    if not 'windows' in platform.system().lower() and not os.path.exists(input_shortcut):\n",
    "        os.symlink(os.path.relpath(input_file,output_dir),input_shortcut)\n",
    "        \n",
    "    # Trace or load tank.\n",
    "    tracker.init_tank()"
   ]
  },
  {
   "cell_type": "code",
   "execution_count": 5,
   "metadata": {},
   "outputs": [],
   "source": [
    "settings = dict(\n",
    "    t_start          = 0,     # Time at which to start tracking, in seconds.\n",
    "    t_end            = 3,    # Time at which to end tracking, in seconds.\n",
    "    \n",
    "    # Contour detection.\n",
    "    n_pixel_blur     =  7,    # square-root of n-pixels for threshold blurring\n",
    "    block_size       = 15,    # contour block size\n",
    "    threshold_offset = 13,    # threshold offset for contour-finding\n",
    "    min_area         = 50,    # minimum area for detection\n",
    "    max_area         = 400,   # maximum area for detection\n",
    "    ideal_area       = 200,   # ideal area to rank contours in first frame (default=(min_area+max_area)/2)\n",
    "    max_aspect       = 20,    # maximum aspect ratio for detection\n",
    "    ideal_aspect     = 3,     # ideal aspect ratio to rank contours in first frame (default=max_aspect/2)\n",
    "    area_penalty     = 0.5,   # weight of area change when connecting fish across frames\n",
    "    reversal_threshold = 0.5, # average frame-to-frame displacement against the director \n",
    "                            # over the last few frames to trigger a reversal. \n",
    "    live_preview     = False, # Toggle live preview of tracking.\n",
    "\n",
    "    # Background subtraction (for naive background subtraction only).\n",
    "    bkgSub_options   = dict( n_training_frames = 100, # number of frames used to compute background\n",
    "                             t_start = 0, t_end = -1, # time range used to compute background\n",
    "                             contrast_factor = 4 ),   # post-subtraction contrast enhancement factor\n",
    "    \n",
    "    # What information to draw on the tracking output video.\n",
    "    video_output_options = dict( tank=True, points=False, directors=True, timestamp=True, \n",
    "                                 contours=True, contour_color=(100,255,0), contour_thickness=1 )\n",
    "    )"
   ]
  },
  {
   "cell_type": "code",
   "execution_count": 57,
   "metadata": {},
   "outputs": [
    {
     "name": "stderr",
     "output_type": "stream",
     "text": [
      "INFO:root:Tank loaded from symposium-output/SF_n2_t2_3113/tank.pik\n"
     ]
    },
    {
     "name": "stdout",
     "output_type": "stream",
     "text": [
      "\n",
      "5209                                                                                                \r"
     ]
    },
    {
     "name": "stderr",
     "output_type": "stream",
     "text": [
      "INFO:root:Video capture released\n"
     ]
    },
    {
     "name": "stdout",
     "output_type": "stream",
     "text": [
      "                                                                                                    \r",
      "5210\r"
     ]
    }
   ],
   "source": [
    "globals().update(settings)\n",
    "globals().update(input_dict[input_file])\n",
    "video_output_options = settings['video_output_options']\n",
    "\n",
    "utils.add_log_file(os.path.join(output_dir,'log.txt'))\n",
    "# logging.info(utils.parindent+'Initializing')\n",
    "tracker = Tracker( input_video=input_file, **input_dict[input_file], **settings )\n",
    "tracker.init_all()\n",
    "tracker.save_settings()\n",
    "print()\n",
    "\n",
    "frames_dir = os.path.join(output_dir,'frames')\n",
    "if not os.path.exists(frames_dir):\n",
    "    os.mkdir(frames_dir)\n",
    "\n",
    "#frame_list = range(5000,tracker.n_frames,1)\n",
    "# frame_list = range(5150,5200,1) # 2 simple swaps in succession\n",
    "# frame_list = range(5000,5150,1)\n",
    "frame_list = range(5190,5211,1)\n",
    "# frame_list = range(5230,5250,1)\n",
    "tracker.set_frame(frame_list[0])\n",
    "contourList=[] #!\n",
    "fish=[]\n",
    "has_overlapped = False\n",
    "for i_frame in frame_list:\n",
    "    print(' '*100+'\\r'+f'{i_frame}',end='\\r')\n",
    "    #logging.info(i_frame)\n",
    "    tracker.get_next_frame()\n",
    "    \n",
    "    frame = tracker.frame.copy()\n",
    "    \n",
    "    tracker.subtract_background()\n",
    "    tracker.mask_tank()\n",
    "    tracker.detect_contours()\n",
    "    tracker.connect_frames()    \n",
    "    \n",
    "    n = len(tracker.contours)\n",
    "    if n==1:\n",
    "        cv2.drawContours(frame, tracker.contours, 0, (255,0,255), -1)\n",
    "        has_overlapped = True\n",
    "        cv2.imwrite(join(frames_dir,f'{i_frame}.png'),frame)\n",
    "    if n==2 and not has_overlapped:\n",
    "        \n",
    "#         pos = tracker.data[-2:,:,:2]\n",
    "#         if pos.shape[0]>1:\n",
    "# #             d1 = np.hypot(*pos[-2,0]-pos[-1,0])+np.hypot(*pos[-2,1]-pos[-1,1])\n",
    "# #             d2 = np.hypot(*pos[-2,0]-pos[-1,1])+np.hypot(*pos[-2,1]-pos[-1,0])\n",
    "#             d1 = np.hypot(*pos[-2,0]-pos[-1,0])\n",
    "#             d2 = np.hypot(*pos[-2,0]-pos[-1,1])\n",
    "#             if d2<d1:\n",
    "#                 print('unswap?')\n",
    "#                 tracker.contours = tracker.contours[::-1]\n",
    "        \n",
    "        colors = [ (0,0,255), (255,0,0) ]\n",
    "        for i in range(n):\n",
    "            cv2.drawContours(frame, tracker.contours, i, colors[i], -1)\n",
    "    \n",
    "#     cv2.imwrite(join(frames_dir,f'{i_frame}.png'),frame)\n",
    "    \n",
    "    tracker.frame[:] = frame[:]\n",
    "    for i in range(10):\n",
    "        tracker.write_frame()    \n",
    "    \n",
    "    #break\n",
    "tracker.release()\n",
    "#tracker.save_trial()\n",
    "\n",
    "with open('partialFish.pkl','wb') as fh:\n",
    "     pickle.dump(fish,fh)"
   ]
  },
  {
   "cell_type": "code",
   "execution_count": null,
   "metadata": {},
   "outputs": [],
   "source": []
  }
 ],
 "metadata": {
  "kernelspec": {
   "display_name": "Python (main)",
   "language": "python",
   "name": "main"
  },
  "language_info": {
   "codemirror_mode": {
    "name": "ipython",
    "version": 3
   },
   "file_extension": ".py",
   "mimetype": "text/x-python",
   "name": "python",
   "nbconvert_exporter": "python",
   "pygments_lexer": "ipython3",
   "version": "3.6.10"
  }
 },
 "nbformat": 4,
 "nbformat_minor": 4
}
