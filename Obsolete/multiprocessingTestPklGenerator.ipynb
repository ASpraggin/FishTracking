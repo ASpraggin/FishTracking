{
 "cells": [
  {
   "cell_type": "code",
   "execution_count": 1,
   "metadata": {},
   "outputs": [],
   "source": [
    "import sys, cv2\n",
    "import numpy as np\n",
    "import tracktor_revised as tr\n",
    "import matplotlib.pyplot as plt\n",
    "import pickle\n",
    "import os\n",
    "import multiprocessing\n",
    "import logging"
   ]
  },
  {
   "cell_type": "code",
   "execution_count": 2,
   "metadata": {},
   "outputs": [
    {
     "name": "stdout",
     "output_type": "stream",
     "text": [
      "56214 frames, 30.0 frames per second.\n"
     ]
    }
   ],
   "source": [
    "# Open video file.\n",
    "video_file        = '../Data/SF_n2_t2_3113.mp4'\n",
    "cap               = cv2.VideoCapture(video_file)\n",
    "n_frames          = int(cap.get(cv2.CAP_PROP_FRAME_COUNT))\n",
    "fps               = cap.get(cv2.CAP_PROP_FPS)\n",
    "print(f'{n_frames} frames, {fps} frames per second.')\n",
    "\n",
    "# Contour detection parameters.\n",
    "block_size,offset = 15,13\n",
    "min_area,max_area = 20,1000\n",
    "n_pix             = 5\n",
    "\n",
    "vid_info = cap,n_frames,fps,block_size,offset,min_area,max_area,n_pix"
   ]
  },
  {
   "cell_type": "code",
   "execution_count": 3,
   "metadata": {},
   "outputs": [
    {
     "data": {
      "text/plain": [
       "4"
      ]
     },
     "execution_count": 3,
     "metadata": {},
     "output_type": "execute_result"
    }
   ],
   "source": [
    "import multiprocessing\n",
    "multiprocessing.cpu_count()"
   ]
  },
  {
   "cell_type": "code",
   "execution_count": null,
   "metadata": {},
   "outputs": [],
   "source": [
    "# List of frames to analyze.\n",
    "frameID_list = list(range(5000,50000,5000))\n",
    "#frameID_list = range(5000,n_frames,1)\n",
    "\n",
    "def fishCreator(i,vid_info=vid_info):\n",
    "    print(i)\n",
    "    sys.stdout.flush()\n",
    "    \n",
    "    cap,n_frames,fps,block_size,offset,min_area,max_area,n_pix = vid_info\n",
    "    \n",
    "    # Load the frame.\n",
    "    cap.set(cv2.CAP_PROP_POS_FRAMES, i-1)\n",
    "    ret,frame = cap.read()\n",
    "\n",
    "    # Detect the contours.\n",
    "    contours  = tr.contour_detect(frame,min_area,max_area,block_size,offset,n_pix)\n",
    "\n",
    "    # Make a mask with value j inside fish number j and -1 elsewhere. \n",
    "    mask      = 0*cv2.cvtColor(frame,cv2.COLOR_BGR2GRAY) - 1\n",
    "    for j in range(len(contours)):\n",
    "        cv2.drawContours(mask, contours, j, j, -1)\n",
    "\n",
    "    # Make and save a list of each fish's pixels.\n",
    "    pixels=[]\n",
    "    subFish=[]\n",
    "    for j in range(len(contours)):\n",
    "        pixels=(np.nonzero(mask==j))\n",
    "        n =len(pixels[0]) # Number of pixels in J\n",
    "        subSubFish=[]\n",
    "        for k in range(n):\n",
    "            row=pixels[0][k]\n",
    "            col=pixels[1][k]\n",
    "            rgb=frame[row,col]\n",
    "            grey=round(.3*rgb[0]+.59*rgb[1]+.11*rgb[2],2)\n",
    "            subSubFish.append([row,col,grey]) #Pixel\n",
    "        subFish.append(np.array(subSubFish)) #Fish\n",
    "    return subFish\n",
    "\n",
    "p = multiprocessing.Pool(processes=2)\n",
    "fish = p.map(fishCreator,frameID_list)\n",
    "    \n",
    "#with open('fishTest.pkl','wb') as fh:\n",
    "     #pickle.dump(fish,fh)"
   ]
  },
  {
   "cell_type": "code",
   "execution_count": 15,
   "metadata": {},
   "outputs": [
    {
     "ename": "NameError",
     "evalue": "name 'fish' is not defined",
     "output_type": "error",
     "traceback": [
      "\u001b[1;31m---------------------------------------------------------------------------\u001b[0m",
      "\u001b[1;31mNameError\u001b[0m                                 Traceback (most recent call last)",
      "\u001b[1;32m<ipython-input-15-11c254d85211>\u001b[0m in \u001b[0;36m<module>\u001b[1;34m\u001b[0m\n\u001b[1;32m----> 1\u001b[1;33m \u001b[0mprint\u001b[0m\u001b[1;33m(\u001b[0m\u001b[0mfish\u001b[0m\u001b[1;33m)\u001b[0m\u001b[1;33m\u001b[0m\u001b[0m\n\u001b[0m",
      "\u001b[1;31mNameError\u001b[0m: name 'fish' is not defined"
     ]
    }
   ],
   "source": [
    "print(fish)"
   ]
  },
  {
   "cell_type": "code",
   "execution_count": null,
   "metadata": {},
   "outputs": [],
   "source": []
  }
 ],
 "metadata": {
  "kernelspec": {
   "display_name": "Python 3",
   "language": "python",
   "name": "python3"
  },
  "language_info": {
   "codemirror_mode": {
    "name": "ipython",
    "version": 3
   },
   "file_extension": ".py",
   "mimetype": "text/x-python",
   "name": "python",
   "nbconvert_exporter": "python",
   "pygments_lexer": "ipython3",
   "version": "3.7.0"
  }
 },
 "nbformat": 4,
 "nbformat_minor": 4
}
