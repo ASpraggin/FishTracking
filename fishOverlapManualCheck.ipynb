{
 "cells": [
  {
   "cell_type": "code",
   "execution_count": 2,
   "metadata": {},
   "outputs": [],
   "source": [
    "import sys, cv2\n",
    "import numpy as np\n",
    "import matplotlib.pyplot as plt\n",
    "import pickle\n",
    "import os\n",
    "import collections\n",
    "import datetime"
   ]
  },
  {
   "cell_type": "code",
   "execution_count": 3,
   "metadata": {},
   "outputs": [],
   "source": [
    "with open('sortedFish.pik','rb') as f:\n",
    "    sortedFish=pickle.load(f)\n",
    "\n",
    "posU=sortedFish[0]\n",
    "nonOverlappingRange=sortedFish[1]\n",
    "fishU=sortedFish[2]"
   ]
  },
  {
   "cell_type": "markdown",
   "metadata": {},
   "source": [
    "#### Manual Check Code"
   ]
  },
  {
   "cell_type": "code",
   "execution_count": 3,
   "metadata": {},
   "outputs": [
    {
     "name": "stdout",
     "output_type": "stream",
     "text": [
      "d- .git\n",
      "f- .gitignore\n",
      "d- .ipynb_checkpoints\n",
      "f- fish.pkl\n",
      "f- fishGraphing.ipynb\n",
      "f- fishOverlapManualCheck.ipynb\n",
      "f- fishSorting.ipynb\n",
      "d- frames\n",
      "d- Obsolete\n",
      "f- overlapCheck.txt\n",
      "f- README.md\n",
      "d- report\n",
      "f- sortedFish.pik\n",
      "f- tracktor_revised.py\n",
      "d- __pycache__\n",
      "\n",
      "\n",
      "--- SF_n1_t4_3012.mp4\n",
      "--- SF_n2_t2_3113.mp4\n"
     ]
    }
   ],
   "source": [
    "for x in os.listdir('.'):\n",
    "    if os.path.isfile(x): \n",
    "        print('f-', x)\n",
    "    elif os.path.isdir(x): \n",
    "        print('d-', x)\n",
    "    elif os.path.islink(x): \n",
    "        print('l-', x)\n",
    "    else: \n",
    "        print('---', x)\n",
    "        \n",
    "print('\\n')\n",
    "        \n",
    "for x in os.listdir('../Fish_Tracking_Data'):\n",
    "    if os.path.isfile(x): \n",
    "        print('f-', x)\n",
    "    elif os.path.isdir(x): \n",
    "        print('d-', x)\n",
    "    elif os.path.islink(x): \n",
    "        print('l-', x)\n",
    "    else: \n",
    "        print('---', x)"
   ]
  },
  {
   "cell_type": "code",
   "execution_count": 4,
   "metadata": {},
   "outputs": [],
   "source": [
    "# for i_overlap in range(len(nonOverlappingRange)-1):\n",
    "for i_overlap in range(40,60):\n",
    "\n",
    "    i1 = nonOverlappingRange[i_overlap][1]-1\n",
    "    i2 = nonOverlappingRange[i_overlap+1][0]\n",
    "\n",
    "    video_file = '../Fish_Tracking_Data/SF_n2_t2_3113.mp4'\n",
    "    cap        = cv2.VideoCapture(video_file)\n",
    "\n",
    "    for i in range(i1-3,i2+3):\n",
    "\n",
    "        i_frame = 5000+i\n",
    "\n",
    "        # Load the frame.\n",
    "        cap.set(cv2.CAP_PROP_POS_FRAMES, i_frame-1)\n",
    "        ret,frame = cap.read()\n",
    "\n",
    "        fish= fishU[i][0].T\n",
    "        rows=fish[0].astype(int)\n",
    "        cols=fish[1].astype(int)\n",
    "        frame[rows,cols]=(255,0,0)\n",
    "        \n",
    "        cv2.imwrite(f'frames/overlap{i_overlap}_frame{i_frame}.png',frame)\n",
    "\n",
    "    cap.release()"
   ]
  },
  {
   "cell_type": "code",
   "execution_count": 4,
   "metadata": {},
   "outputs": [
    {
     "name": "stdout",
     "output_type": "stream",
     "text": [
      "251\n"
     ]
    }
   ],
   "source": [
    "print(len(nonOverlappingRange))"
   ]
  },
  {
   "cell_type": "markdown",
   "metadata": {},
   "source": [
    "### Reading Manual Result\n",
    "\n",
    "0 isn't an overlap, 1 is"
   ]
  },
  {
   "cell_type": "code",
   "execution_count": 6,
   "metadata": {},
   "outputs": [
    {
     "name": "stdout",
     "output_type": "stream",
     "text": [
      "[[0, 1], [1, 0], [2, 0], [3, 1], [4, 0], [5, 0], [6, 0], [7, 1], [8, 0], [9, 0], [10, 0], [11, 0], [12, 1], [13, 0], [14, 1], [15, 1], [16, 0], [17, 0], [18, 0], [19, 0], [20, 0], [21, 1], [22, 0], [23, 0], [24, 0], [25, 1], [26, 1], [27, 0], [28, 0], [29, 0], [30, 1], [31, 0], [32, 1], [33, 1], [34, 0], [35, 0], [36, 0], [37, 0], [38, 0], [39, 0], [40, 1]]\n"
     ]
    }
   ],
   "source": [
    "f=open('overlapCheck.txt','r')\n",
    "#fr=f.read()\n",
    "manualOverlapArray=[]\n",
    "for line in f:\n",
    "    line=line.strip().split(',')\n",
    "    manualOverlapArray.append([int(x) for x in line ])\n",
    "print(manualOverlapArray)"
   ]
  },
  {
   "cell_type": "code",
   "execution_count": 39,
   "metadata": {},
   "outputs": [],
   "source": [
    "manualOverlapArray=np.loadtxt('overlapCheck.txt',delimiter=',',dtype=int)"
   ]
  },
  {
   "cell_type": "code",
   "execution_count": 34,
   "metadata": {},
   "outputs": [],
   "source": [
    "with open('manualOverlap.pik','wb') as f:\n",
    "    pickle.dump(manualOverlapArray,f)"
   ]
  },
  {
   "cell_type": "code",
   "execution_count": null,
   "metadata": {},
   "outputs": [],
   "source": []
  }
 ],
 "metadata": {
  "kernelspec": {
   "display_name": "Python 3",
   "language": "python",
   "name": "python3"
  },
  "language_info": {
   "codemirror_mode": {
    "name": "ipython",
    "version": 3
   },
   "file_extension": ".py",
   "mimetype": "text/x-python",
   "name": "python",
   "nbconvert_exporter": "python",
   "pygments_lexer": "ipython3",
   "version": "3.7.3"
  }
 },
 "nbformat": 4,
 "nbformat_minor": 4
}
