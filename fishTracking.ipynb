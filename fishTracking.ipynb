{
 "cells": [
  {
   "cell_type": "code",
   "execution_count": 2,
   "metadata": {},
   "outputs": [],
   "source": [
    "import sys, cv2\n",
    "import numpy as np\n",
    "import tracktor_revised as tr\n",
    "import matplotlib.pyplot as plt\n",
    "import pickle\n",
    "import os"
   ]
  },
  {
   "cell_type": "code",
   "execution_count": 3,
   "metadata": {},
   "outputs": [
    {
     "name": "stdout",
     "output_type": "stream",
     "text": [
      "56214 frames, 30.0 frames per second.\n"
     ]
    }
   ],
   "source": [
    "# Open video file.\n",
    "video_file        = '../Data/SF_n2_t2_3113.mp4'\n",
    "cap               = cv2.VideoCapture(video_file)\n",
    "n_frames          = int(cap.get(cv2.CAP_PROP_FRAME_COUNT))\n",
    "fps               = cap.get(cv2.CAP_PROP_FPS)\n",
    "print(f'{n_frames} frames, {fps} frames per second.')\n",
    "\n",
    "# Contour detection parameters.\n",
    "block_size,offset = 15,13\n",
    "min_area,max_area = 20,1000\n",
    "n_pix             = 5"
   ]
  },
  {
   "cell_type": "code",
   "execution_count": 3,
   "metadata": {},
   "outputs": [
    {
     "ename": "IndentationError",
     "evalue": "unexpected indent (<ipython-input-3-f31202655608>, line 11)",
     "output_type": "error",
     "traceback": [
      "\u001b[1;36m  File \u001b[1;32m\"<ipython-input-3-f31202655608>\"\u001b[1;36m, line \u001b[1;32m11\u001b[0m\n\u001b[1;33m    cap.set(cv2.CAP_PROP_POS_FRAMES, i-1)\u001b[0m\n\u001b[1;37m    ^\u001b[0m\n\u001b[1;31mIndentationError\u001b[0m\u001b[1;31m:\u001b[0m unexpected indent\n"
     ]
    }
   ],
   "source": [
    "# List of frames to analyze.\n",
    "#frameID_list = range(5000,50000,50)\n",
    "frameID_list = range(5000,n_frames,1)\n",
    "\n",
    "# Data structure to hold only the pixels belonging to a fish and their brightness.\n",
    "fish = []\n",
    "\n",
    "#Uncomment line to make this cell run, commented to force notebook to use the .pkl file for speed. (This cell takes over an hour.)\n",
    "#for i in frameID_list:\n",
    "    \n",
    "    # Load the frame.\n",
    "    cap.set(cv2.CAP_PROP_POS_FRAMES, i-1)\n",
    "    ret,frame = cap.read()\n",
    "    \n",
    "    # Detect the contours.\n",
    "    contours  = tr.contour_detect(frame,min_area,max_area,block_size,offset,n_pix)\n",
    "    \n",
    "    # Make a mask with value j inside fish number j and -1 elsewhere. \n",
    "    mask      = 0*cv2.cvtColor(frame,cv2.COLOR_BGR2GRAY) - 1\n",
    "    for j in range(len(contours)):\n",
    "        cv2.drawContours(mask, contours, j, j, -1)\n",
    "    \n",
    "    # Make and save a list of each fish's pixels.\n",
    "    pixels=[]\n",
    "    subFish=[]\n",
    "    for j in range(len(contours)):\n",
    "        pixels=(np.nonzero(mask==j))\n",
    "        n =len(pixels[0]) # Number of pixels in J\n",
    "        subSubFish=[]\n",
    "        for k in range(n):\n",
    "            row=pixels[0][k]\n",
    "            col=pixels[1][k]\n",
    "            rgb=frame[row,col]\n",
    "            grey=round(.3*rgb[0]+.59*rgb[1]+.11*rgb[2],2)\n",
    "            subSubFish.append([row,col,grey]) #Pixel\n",
    "        subFish.append(np.array(subSubFish)) #Fish\n",
    "    fish.append(subFish) #Frame\n",
    "\n",
    "with open('fish.pkl','wb') as fh:\n",
    "     pickle.dump(fish,fh)"
   ]
  },
  {
   "cell_type": "code",
   "execution_count": 4,
   "metadata": {},
   "outputs": [],
   "source": [
    "with open('fish.pkl','rb') as fh:\n",
    "     fish=pickle.load(fh)"
   ]
  },
  {
   "cell_type": "code",
   "execution_count": null,
   "metadata": {},
   "outputs": [
    {
     "ename": "KeyboardInterrupt",
     "evalue": "",
     "output_type": "error",
     "traceback": [
      "\u001b[1;31m---------------------------------------------------------------------------\u001b[0m",
      "\u001b[1;31mKeyboardInterrupt\u001b[0m                         Traceback (most recent call last)",
      "\u001b[1;32m<ipython-input-4-9a4d4a63af94>\u001b[0m in \u001b[0;36m<module>\u001b[1;34m\u001b[0m\n\u001b[0;32m      7\u001b[0m     \u001b[1;32mfor\u001b[0m \u001b[0mj\u001b[0m \u001b[1;32min\u001b[0m \u001b[0mrange\u001b[0m\u001b[1;33m(\u001b[0m\u001b[0mlen\u001b[0m\u001b[1;33m(\u001b[0m\u001b[0mfish\u001b[0m\u001b[1;33m[\u001b[0m\u001b[0mi\u001b[0m\u001b[1;33m]\u001b[0m\u001b[1;33m)\u001b[0m\u001b[1;33m)\u001b[0m\u001b[1;33m:\u001b[0m\u001b[1;33m\u001b[0m\u001b[0m\n\u001b[0;32m      8\u001b[0m         \u001b[0mhistArray\u001b[0m\u001b[1;33m=\u001b[0m\u001b[0mnp\u001b[0m\u001b[1;33m.\u001b[0m\u001b[0mhistogram\u001b[0m\u001b[1;33m(\u001b[0m\u001b[0mfish\u001b[0m\u001b[1;33m[\u001b[0m\u001b[0mi\u001b[0m\u001b[1;33m]\u001b[0m\u001b[1;33m[\u001b[0m\u001b[0mj\u001b[0m\u001b[1;33m]\u001b[0m\u001b[1;33m[\u001b[0m\u001b[1;33m:\u001b[0m\u001b[1;33m,\u001b[0m\u001b[1;36m2\u001b[0m\u001b[1;33m]\u001b[0m\u001b[1;33m,\u001b[0m\u001b[0mbins\u001b[0m\u001b[1;33m=\u001b[0m\u001b[0mbins\u001b[0m\u001b[1;33m)\u001b[0m\u001b[1;33m\u001b[0m\u001b[0m\n\u001b[1;32m----> 9\u001b[1;33m         \u001b[0mplt\u001b[0m\u001b[1;33m.\u001b[0m\u001b[0mplot\u001b[0m\u001b[1;33m(\u001b[0m\u001b[0mhistArray\u001b[0m\u001b[1;33m[\u001b[0m\u001b[1;36m1\u001b[0m\u001b[1;33m]\u001b[0m\u001b[1;33m[\u001b[0m\u001b[1;33m:\u001b[0m\u001b[1;33m-\u001b[0m\u001b[1;36m1\u001b[0m\u001b[1;33m]\u001b[0m\u001b[1;33m,\u001b[0m\u001b[0mhistArray\u001b[0m\u001b[1;33m[\u001b[0m\u001b[1;36m0\u001b[0m\u001b[1;33m]\u001b[0m\u001b[1;33m,\u001b[0m\u001b[0mcolor\u001b[0m\u001b[1;33m=\u001b[0m\u001b[0mcolorList\u001b[0m\u001b[1;33m[\u001b[0m\u001b[0mj\u001b[0m\u001b[1;33m]\u001b[0m\u001b[1;33m)\u001b[0m\u001b[1;33m\u001b[0m\u001b[0m\n\u001b[0m\u001b[0;32m     10\u001b[0m \u001b[0mplt\u001b[0m\u001b[1;33m.\u001b[0m\u001b[0mshow\u001b[0m\u001b[1;33m(\u001b[0m\u001b[1;33m)\u001b[0m\u001b[1;33m\u001b[0m\u001b[0m\n",
      "\u001b[1;32mc:\\users\\arisp\\appdata\\local\\programs\\python\\python37\\lib\\site-packages\\matplotlib\\pyplot.py\u001b[0m in \u001b[0;36mplot\u001b[1;34m(scalex, scaley, data, *args, **kwargs)\u001b[0m\n\u001b[0;32m   2793\u001b[0m     return gca().plot(\n\u001b[0;32m   2794\u001b[0m         *args, scalex=scalex, scaley=scaley, **({\"data\": data} if data\n\u001b[1;32m-> 2795\u001b[1;33m         is not None else {}), **kwargs)\n\u001b[0m\u001b[0;32m   2796\u001b[0m \u001b[1;33m\u001b[0m\u001b[0m\n\u001b[0;32m   2797\u001b[0m \u001b[1;33m\u001b[0m\u001b[0m\n",
      "\u001b[1;32mc:\\users\\arisp\\appdata\\local\\programs\\python\\python37\\lib\\site-packages\\matplotlib\\axes\\_axes.py\u001b[0m in \u001b[0;36mplot\u001b[1;34m(self, scalex, scaley, data, *args, **kwargs)\u001b[0m\n\u001b[0;32m   1667\u001b[0m         \u001b[1;32mfor\u001b[0m \u001b[0mline\u001b[0m \u001b[1;32min\u001b[0m \u001b[0mlines\u001b[0m\u001b[1;33m:\u001b[0m\u001b[1;33m\u001b[0m\u001b[0m\n\u001b[0;32m   1668\u001b[0m             \u001b[0mself\u001b[0m\u001b[1;33m.\u001b[0m\u001b[0madd_line\u001b[0m\u001b[1;33m(\u001b[0m\u001b[0mline\u001b[0m\u001b[1;33m)\u001b[0m\u001b[1;33m\u001b[0m\u001b[0m\n\u001b[1;32m-> 1669\u001b[1;33m         \u001b[0mself\u001b[0m\u001b[1;33m.\u001b[0m\u001b[0mautoscale_view\u001b[0m\u001b[1;33m(\u001b[0m\u001b[0mscalex\u001b[0m\u001b[1;33m=\u001b[0m\u001b[0mscalex\u001b[0m\u001b[1;33m,\u001b[0m \u001b[0mscaley\u001b[0m\u001b[1;33m=\u001b[0m\u001b[0mscaley\u001b[0m\u001b[1;33m)\u001b[0m\u001b[1;33m\u001b[0m\u001b[0m\n\u001b[0m\u001b[0;32m   1670\u001b[0m         \u001b[1;32mreturn\u001b[0m \u001b[0mlines\u001b[0m\u001b[1;33m\u001b[0m\u001b[0m\n\u001b[0;32m   1671\u001b[0m \u001b[1;33m\u001b[0m\u001b[0m\n",
      "\u001b[1;32mc:\\users\\arisp\\appdata\\local\\programs\\python\\python37\\lib\\site-packages\\matplotlib\\axes\\_base.py\u001b[0m in \u001b[0;36mautoscale_view\u001b[1;34m(self, tight, scalex, scaley)\u001b[0m\n\u001b[0;32m   2413\u001b[0m                 \u001b[1;33m(\u001b[0m\u001b[0mself\u001b[0m\u001b[1;33m.\u001b[0m\u001b[0m_xmargin\u001b[0m \u001b[1;32mand\u001b[0m \u001b[0mscalex\u001b[0m \u001b[1;32mand\u001b[0m \u001b[0mself\u001b[0m\u001b[1;33m.\u001b[0m\u001b[0m_autoscaleXon\u001b[0m\u001b[1;33m)\u001b[0m \u001b[1;32mor\u001b[0m\u001b[1;33m\u001b[0m\u001b[0m\n\u001b[0;32m   2414\u001b[0m                 (self._ymargin and scaley and self._autoscaleYon)):\n\u001b[1;32m-> 2415\u001b[1;33m             \u001b[0mstickies\u001b[0m \u001b[1;33m=\u001b[0m \u001b[1;33m[\u001b[0m\u001b[0martist\u001b[0m\u001b[1;33m.\u001b[0m\u001b[0msticky_edges\u001b[0m \u001b[1;32mfor\u001b[0m \u001b[0martist\u001b[0m \u001b[1;32min\u001b[0m \u001b[0mself\u001b[0m\u001b[1;33m.\u001b[0m\u001b[0mget_children\u001b[0m\u001b[1;33m(\u001b[0m\u001b[1;33m)\u001b[0m\u001b[1;33m]\u001b[0m\u001b[1;33m\u001b[0m\u001b[0m\n\u001b[0m\u001b[0;32m   2416\u001b[0m             \u001b[0mx_stickies\u001b[0m \u001b[1;33m=\u001b[0m \u001b[0mnp\u001b[0m\u001b[1;33m.\u001b[0m\u001b[0marray\u001b[0m\u001b[1;33m(\u001b[0m\u001b[1;33m[\u001b[0m\u001b[0mx\u001b[0m \u001b[1;32mfor\u001b[0m \u001b[0msticky\u001b[0m \u001b[1;32min\u001b[0m \u001b[0mstickies\u001b[0m \u001b[1;32mfor\u001b[0m \u001b[0mx\u001b[0m \u001b[1;32min\u001b[0m \u001b[0msticky\u001b[0m\u001b[1;33m.\u001b[0m\u001b[0mx\u001b[0m\u001b[1;33m]\u001b[0m\u001b[1;33m)\u001b[0m\u001b[1;33m\u001b[0m\u001b[0m\n\u001b[0;32m   2417\u001b[0m             \u001b[0my_stickies\u001b[0m \u001b[1;33m=\u001b[0m \u001b[0mnp\u001b[0m\u001b[1;33m.\u001b[0m\u001b[0marray\u001b[0m\u001b[1;33m(\u001b[0m\u001b[1;33m[\u001b[0m\u001b[0my\u001b[0m \u001b[1;32mfor\u001b[0m \u001b[0msticky\u001b[0m \u001b[1;32min\u001b[0m \u001b[0mstickies\u001b[0m \u001b[1;32mfor\u001b[0m \u001b[0my\u001b[0m \u001b[1;32min\u001b[0m \u001b[0msticky\u001b[0m\u001b[1;33m.\u001b[0m\u001b[0my\u001b[0m\u001b[1;33m]\u001b[0m\u001b[1;33m)\u001b[0m\u001b[1;33m\u001b[0m\u001b[0m\n",
      "\u001b[1;32mc:\\users\\arisp\\appdata\\local\\programs\\python\\python37\\lib\\site-packages\\matplotlib\\axes\\_base.py\u001b[0m in \u001b[0;36m<listcomp>\u001b[1;34m(.0)\u001b[0m\n\u001b[0;32m   2413\u001b[0m                 \u001b[1;33m(\u001b[0m\u001b[0mself\u001b[0m\u001b[1;33m.\u001b[0m\u001b[0m_xmargin\u001b[0m \u001b[1;32mand\u001b[0m \u001b[0mscalex\u001b[0m \u001b[1;32mand\u001b[0m \u001b[0mself\u001b[0m\u001b[1;33m.\u001b[0m\u001b[0m_autoscaleXon\u001b[0m\u001b[1;33m)\u001b[0m \u001b[1;32mor\u001b[0m\u001b[1;33m\u001b[0m\u001b[0m\n\u001b[0;32m   2414\u001b[0m                 (self._ymargin and scaley and self._autoscaleYon)):\n\u001b[1;32m-> 2415\u001b[1;33m             \u001b[0mstickies\u001b[0m \u001b[1;33m=\u001b[0m \u001b[1;33m[\u001b[0m\u001b[0martist\u001b[0m\u001b[1;33m.\u001b[0m\u001b[0msticky_edges\u001b[0m \u001b[1;32mfor\u001b[0m \u001b[0martist\u001b[0m \u001b[1;32min\u001b[0m \u001b[0mself\u001b[0m\u001b[1;33m.\u001b[0m\u001b[0mget_children\u001b[0m\u001b[1;33m(\u001b[0m\u001b[1;33m)\u001b[0m\u001b[1;33m]\u001b[0m\u001b[1;33m\u001b[0m\u001b[0m\n\u001b[0m\u001b[0;32m   2416\u001b[0m             \u001b[0mx_stickies\u001b[0m \u001b[1;33m=\u001b[0m \u001b[0mnp\u001b[0m\u001b[1;33m.\u001b[0m\u001b[0marray\u001b[0m\u001b[1;33m(\u001b[0m\u001b[1;33m[\u001b[0m\u001b[0mx\u001b[0m \u001b[1;32mfor\u001b[0m \u001b[0msticky\u001b[0m \u001b[1;32min\u001b[0m \u001b[0mstickies\u001b[0m \u001b[1;32mfor\u001b[0m \u001b[0mx\u001b[0m \u001b[1;32min\u001b[0m \u001b[0msticky\u001b[0m\u001b[1;33m.\u001b[0m\u001b[0mx\u001b[0m\u001b[1;33m]\u001b[0m\u001b[1;33m)\u001b[0m\u001b[1;33m\u001b[0m\u001b[0m\n\u001b[0;32m   2417\u001b[0m             \u001b[0my_stickies\u001b[0m \u001b[1;33m=\u001b[0m \u001b[0mnp\u001b[0m\u001b[1;33m.\u001b[0m\u001b[0marray\u001b[0m\u001b[1;33m(\u001b[0m\u001b[1;33m[\u001b[0m\u001b[0my\u001b[0m \u001b[1;32mfor\u001b[0m \u001b[0msticky\u001b[0m \u001b[1;32min\u001b[0m \u001b[0mstickies\u001b[0m \u001b[1;32mfor\u001b[0m \u001b[0my\u001b[0m \u001b[1;32min\u001b[0m \u001b[0msticky\u001b[0m\u001b[1;33m.\u001b[0m\u001b[0my\u001b[0m\u001b[1;33m]\u001b[0m\u001b[1;33m)\u001b[0m\u001b[1;33m\u001b[0m\u001b[0m\n",
      "\u001b[1;31mKeyboardInterrupt\u001b[0m: "
     ]
    }
   ],
   "source": [
    "bins=np.linspace(0,256,20)\n",
    "plt.figure(figsize=(10,10))\n",
    "colorList=['r','b']\n",
    "xlabel=('')\n",
    "ylabel=('')\n",
    "for i in range(len(fish)):\n",
    "    for j in range(len(fish[i])):\n",
    "        histArray=np.histogram(fish[i][j][:,2],bins=bins)\n",
    "        plt.plot(histArray[1][:-1],histArray[0],color=colorList[j])\n",
    "plt.show()"
   ]
  },
  {
   "cell_type": "code",
   "execution_count": null,
   "metadata": {},
   "outputs": [],
   "source": [
    "#Creates an array of the distance, brightness sum and brightness difference for the frame of greyFish \n",
    "\n",
    "pairFrameData=[]\n",
    "for i in range(len(fish)):\n",
    "    for j in range(i):\n",
    "        distance=np.sqrt((fish[i][0]-fish[j][0])**2+(fish[i][1]-fish[j][1])**2)\n",
    "        brightness=fish[i][2]+fish[j][2]\n",
    "        difference=np.absolute(fish[i][2]-fish[j][2])\n",
    "        pairFrameData.append([distance,brightness,difference])\n",
    "pairFrameData=np.array(pairFrameData).T\n",
    "print(pairFrameData)"
   ]
  },
  {
   "cell_type": "code",
   "execution_count": null,
   "metadata": {},
   "outputs": [],
   "source": [
    "#Creates a 2d histogram of the first frame of greyFish using sum then difference of brightnesses\n",
    "histArray=np.histogram(pairFrameData[0])\n",
    "plt.plot(histArray[1][:-1],histArray[0])\n",
    "plt.show()\n",
    "\n",
    "heightValuesSum,bin1Sum,bin2sum=np.histogram2d(pairFrameData[0],pairFrameData[1])\n",
    "plt.hist2d(pairFrameData[0],pairFrameData[1])\n",
    "plt.show()\n",
    "\n",
    "heightValuesDifference,bin1Difference,bin2Difference=np.histogram2d(pairFrameData[0],pairFrameData[2])\n",
    "plt.hist2d(pairFrameData[0],pairFrameData[2])\n",
    "plt.show()"
   ]
  },
  {
   "cell_type": "code",
   "execution_count": null,
   "metadata": {},
   "outputs": [],
   "source": [
    "#Creates an array of the distance difference[0], brightness sum[1], and brightness difference[2] for every frame of greyFish\n",
    "bins=np.linspace(0,500,20)\n",
    "histDifferenceData=[]\n",
    "for k in range(len(greyFish)):\n",
    "    pairsData=[]\n",
    "    for i in range(greyFish[k].shape[1]):\n",
    "        for j in range(i):\n",
    "            distance=np.sqrt((greyFish[k][0][i]-greyFish[k][0][j])**2+(greyFish[k][1][i]-greyFish[k][1][j])**2)\n",
    "            brightness=greyFish[k][2][i]+greyFish[k][2][j]\n",
    "            difference=np.absolute(greyFish[k][2][i]-greyFish[k][2][j])\n",
    "            pairsData.append([distance,brightness,difference])\n",
    "    pairsData=np.array(pairsData).T\n",
    "    histDifferenceData.append(np.histogram2d(pairsData[0],pairsData[2],bins=[bin1Difference,bin2Difference]))"
   ]
  },
  {
   "cell_type": "code",
   "execution_count": null,
   "metadata": {},
   "outputs": [],
   "source": [
    "#Calculates the euclidan difference between the first frame of histDifferenceData and every other frame using: the distance in [0], the brightnes sums in [1], and the brightness diffrerence in [2]\n",
    "twodDifferenceArray=[]\n",
    "for i in range(len(histDifferenceData)):\n",
    "    twodDifferenceSubArray=[]\n",
    "    twodDifferenceSubArray=np.linalg.norm(histDifferenceData[i][0]-histDifferenceData[0][0])\n",
    "    twodDifferenceArray.append(twodDifferenceSubArray)"
   ]
  },
  {
   "cell_type": "code",
   "execution_count": null,
   "metadata": {},
   "outputs": [],
   "source": [
    "#Plots histogram of distance values\n",
    "histArray=np.histogram(twodDifferenceArray)\n",
    "plt.plot(histArray[1][:-1],histArray[0])\n",
    "plt.show()"
   ]
  },
  {
   "cell_type": "code",
   "execution_count": 6,
   "metadata": {},
   "outputs": [
    {
     "name": "stdout",
     "output_type": "stream",
     "text": [
      "[2482, 628, 26589, 24107]\n"
     ]
    }
   ],
   "source": [
    "crossedList=[]\n",
    "for i in range(len(fish)):\n",
    "    if len(fish[i])==1:\n",
    "        crossedList.append(i)\n",
    "#Take a list of each strech where the fish don't cross so that we can check which fish is which after they cross by comparing it to either the first or the longest streach uncrossed\n",
    "#See 1 on fily's paper\n",
    "longestDistance=[]\n",
    "distance=0\n",
    "for i in range(len(crossedList)):\n",
    "    if (crossedList[i]-crossedList[i-1])>distance:\n",
    "        distance=(crossedList[i]-crossedList[i-1])\n",
    "        longestDistance=[distance,i,crossedList[i],crossedList[i-1]]\n",
    "print(longestDistance)"
   ]
  },
  {
   "cell_type": "code",
   "execution_count": 54,
   "metadata": {},
   "outputs": [],
   "source": [
    "#finding the center of each fish\n",
    "#2 on fily's paper\n",
    "fishMean=[]\n",
    "overlapBooleanCheck=False\n",
    "errorList=[]\n",
    "for i in range(len(fish)):\n",
    "    for j in range(len(crossedList)):\n",
    "        if i==j:\n",
    "            overlapBooleanCheck=True\n",
    "    try:\n",
    "        if overlapBooleanCheck==True:\n",
    "            fishMean.append([[np.mean(fish[i][0].T[0]),np.mean(fish[i][0].T[1])],[np.mean(fish[i][0].T[0]),np.mean(fish[i][0].T[1])]])\n",
    "        else:\n",
    "            fishMean.append([[np.mean(fish[i][0].T[0]),np.mean(fish[i][0].T[1])],[np.mean(fish[i][1].T[0]),np.mean(fish[i][1].T[1])]])\n",
    "    except:\n",
    "        errorList.append(i)\n",
    "    overlapBooleanCheck=False"
   ]
  },
  {
   "cell_type": "code",
   "execution_count": 57,
   "metadata": {},
   "outputs": [
    {
     "name": "stdout",
     "output_type": "stream",
     "text": [
      "[1804, 1805, 1806, 1807, 1808, 1809, 1810, 1811, 1812, 1813, 1814, 1825, 2707, 2708, 2709, 2785, 2786, 2787, 2788, 2789, 2790, 2791, 3048, 3049, 3050, 3051, 3052, 3053, 3054, 3055, 3056, 3057, 3058, 3059, 3060, 3229, 3233, 3234, 3235, 3290, 3291, 3292, 3293, 3294, 3595, 3596, 3598, 3599, 3600, 3601, 3658, 3659, 3660, 3733, 3734, 3735, 3736, 3737, 3770, 3771, 3772, 3773, 3781, 3782, 3783, 3784, 3785, 3786, 3787, 3896, 3897, 3918, 3919, 4062, 4063, 4064, 4065, 4066, 4067, 4155, 4156, 4389, 4551, 4589, 4590, 5152, 5153, 5154, 6433, 6436, 8500, 8536, 8537, 8538, 8539, 8540, 8541, 8542, 8543, 8544, 8545, 8546, 8547, 8548, 8945, 8946, 8947, 9123, 9124, 9125, 9126, 9127, 9128, 9129, 9130, 9131, 9132, 9133, 9134, 9135, 9136, 9137, 9138, 9139, 9140, 9508, 9509, 9510, 9511, 9512, 9513, 9514, 9515, 9516, 9517, 9518, 9519, 9520, 9521, 9522, 9523, 9524, 9525, 9526, 9527, 9528, 9529, 9530, 9531, 9532, 9533, 9534, 9535, 9536, 9537, 9538, 9571, 9572, 9573, 9574, 9575, 9576, 9577, 9578, 9579, 9580, 9581, 9582, 9583, 9584, 9585, 9586, 9587, 9588, 9589, 9590, 9591, 9592, 9593, 9594, 9595, 9596, 9597, 9598, 9599, 9600, 9601, 9602, 9603, 9604, 9605, 9606, 9607, 9608, 9609, 9610, 9611, 9612, 9613, 9614, 9615, 9616, 9617, 9618, 9619, 9620, 9621, 9622, 9623, 9624, 9625, 9626, 9627, 9628, 9629, 9630, 9631, 9632, 9633, 9634, 9635, 9636, 9637, 9638, 9639, 9640, 9641, 9642, 9643, 9644, 9645, 9646, 9647, 9648, 9649, 9650, 9651, 9652, 9653, 9654, 9655, 9656, 9657, 9658, 9659, 9660, 9661, 9662, 9663, 9664, 9665, 9666, 9667, 9668, 9669, 9670, 9671, 9672, 9673, 9674, 9675, 9676, 9677, 9678, 9679, 9680, 9681, 9682, 9683, 9684, 9685, 9686, 9687, 9688, 9689, 9690, 9691, 9692, 9693, 9694, 9695, 9696, 9947, 9948, 9949, 9950, 9951, 10030, 10031, 10032, 10033, 10034, 10035, 10036, 10037, 10038, 10039, 10095, 10096, 10097, 10098, 10099, 10100, 10101, 10102, 10103, 10104, 10105, 10106, 10107, 10108, 10109, 10110, 10111, 10208, 10209, 10210, 10211, 10212, 10213, 10214, 10215, 11231, 11232, 11233, 11234, 11646, 11647, 11653, 12363, 12427, 12428, 12429, 12567, 12568, 12569, 12570, 12571, 12572, 12573, 12995, 12996, 12997, 12998, 12999, 13000, 13001, 13002, 13003, 13004, 13005, 13076, 13077, 13078, 13079, 13080, 13913, 14436, 14437, 14438, 14536, 14537, 14538, 14539, 14540, 14541, 14542, 14580, 14583, 14681, 14682, 14683, 14684, 14685, 14686, 14687, 14688, 14689, 14690, 14691, 15300, 15301, 15302, 15303, 15466, 15467, 15468, 15469, 15600, 15601, 15826, 15827, 15828, 16667, 16668, 16669, 16670, 17110, 17111, 17112, 17113, 17114, 17115, 17116, 17463, 17464, 17657, 17658, 17659, 17768, 17769, 17770, 17771, 17772, 17773, 17774, 17775, 17776, 17777, 17778, 17779, 17780, 17781, 17782, 17947, 17948, 17949, 17950, 17951, 17952, 17953, 17954, 17956, 17957, 18130, 18131, 18132, 18133, 18134, 18165, 18166, 18167, 18168, 18169, 18170, 18171, 18172, 18173, 18174, 18175, 18176, 18177, 18178, 18179, 18803, 18804, 18805, 18806, 18807, 18808, 18809, 18817, 18818, 18819, 18820, 18821, 18822, 18823, 18824, 18825, 18826, 18827, 18828, 18829, 18830, 18831, 18832, 20039, 20989, 20990, 20991, 20992, 20993, 20994, 20995, 20996, 20997, 20998, 20999, 21000, 21384, 21385, 21400, 21401, 21402, 21403, 21404, 21703, 21704, 21705, 21706, 21708, 21761, 21762, 21763, 21764, 21765, 21766, 21767, 21768, 21769, 21770, 21771, 21772, 21773, 21774, 21775, 21776, 21835, 21836, 21837, 22140, 22141, 22142, 22143, 22144, 22145, 22146, 22147, 22148, 22149, 22150, 22151, 22152, 22153, 22154, 22155, 22156, 22157, 22158, 22159, 22160, 22161, 22162, 22163, 22164, 22165, 22166, 22167, 22168, 22169, 22170, 22171, 22172, 22173, 22174, 22175, 22176, 22177, 22178, 22179, 22180, 22210, 22212, 22214, 22224, 22275, 22276, 22277, 22515, 22525, 22526, 22527, 22528, 22529, 22530, 22531, 22532, 22871, 22872, 22873, 22874, 23619, 23620, 23621, 23671, 23672, 23673, 24098, 24099, 24100, 24101, 24102, 24103, 24104, 24105, 24106, 24107, 26589, 27290, 27291, 27292, 27293, 27294, 27796, 27797, 27798, 27799, 27800, 27884, 28087, 28088, 28089, 28090, 28091, 28092, 28093, 28094, 28095, 28119, 28120, 28121, 28122, 28123, 28124, 28125, 28126, 28127, 28128, 28129, 28130, 28131, 28194, 28195, 28196, 28197, 28198, 28199, 28200, 28201, 28321, 28322, 28323, 28324, 28325, 28326, 28327, 28328, 28329, 28330, 28331, 28332, 29093, 29094, 29095, 29096, 29097, 29098, 29099, 29100, 29101, 29102, 29103, 29104, 29105, 29106, 29107, 29108, 29334, 29335, 29336, 29337, 29338, 29339, 29340, 29341, 29342, 29343, 29344, 29345, 29346, 29347, 29348, 29349, 29350, 29351, 29352, 29353, 29354, 29355, 29356, 29357, 29358, 29359, 29360, 29361, 29362, 29485, 29486, 29487, 29488, 29489, 29490, 29491, 29492, 29493, 29494, 29692, 29693, 29694, 29695, 29696, 29697, 29698, 29699, 29700, 29703, 29889, 29890, 29891, 29893, 29894, 29895, 29896, 29897, 29898, 29982, 29983, 29984, 29985, 30272, 30273, 30274, 30275, 30276, 30277, 30278, 30318, 30411, 30504, 30505, 30506, 30507, 30508, 30509, 30510, 30511, 30512, 30513, 31150, 31151, 31152, 31153, 31443, 31444, 31445, 31446, 31447, 31448, 31777, 31778, 31779, 31780, 31781, 31782, 31783, 31784, 31787, 31840, 32097, 32098, 32099, 32100, 32101, 32102, 32103, 32104, 32105, 32106, 32107, 32108, 32261, 32262, 32263, 32264, 32265, 32266, 32425, 32426, 32427, 32428, 32429, 32430, 32751, 32752, 32753, 32754, 32755, 32856, 33158, 33159, 33160, 33161, 33162, 33163, 34970, 34972, 34973, 34974, 35016, 35017, 35018, 35019, 35020, 35021, 35022, 35023, 35051, 35052, 35053, 35054, 35055, 35056, 35057, 35058, 35776, 35777, 35778, 35779, 35780, 35781, 35818, 35819, 35820, 35822, 35823, 35824, 35825, 35850, 35851, 35852, 35853, 35964, 35965, 35966, 35967, 35968, 35969, 36036, 36242, 36243, 36244, 36246, 36247, 36248, 36249, 36396, 36397, 36398, 36399, 36736, 36739, 36740, 37716, 37717, 37718, 37719, 37720, 37721, 37722, 37723, 37724, 37725, 37726, 37727, 38046, 38047, 38048, 38049, 38050, 38051, 38052, 38053, 38078, 38079, 38080, 38081, 38082, 38083, 38084, 38085, 38265, 38266, 38267, 38268, 38269, 38301, 38302, 38303, 38305, 38306, 38307, 38308, 38309, 38489, 38490, 38491, 38492, 38493, 38494, 38495, 38496, 38497, 38553, 38554, 38555, 38556, 38557, 38558, 38559, 38606, 38607, 38608, 38609, 38610, 38611, 38612, 38613, 38614, 38615, 38616, 38617, 39234, 39235, 39236, 39237, 39238, 39239, 39240, 39241, 39242, 39243, 39244, 39245, 39246, 39247, 39248, 39249, 39250, 39251, 39252, 39253, 39271, 39272, 39273, 39274, 39275, 39276, 39277, 39278, 39279, 39633, 39636, 39637, 39638, 39639, 39640, 39641, 39642, 39643, 39644, 39645, 39646, 39647, 39648, 39649, 39650, 39651, 39652, 39653, 39654, 39660, 39661, 39662, 39663, 39664, 39665, 39666, 39667, 39668, 39669, 39670, 39671, 39699, 39700, 39701, 40311, 40312, 40313, 40314, 40523, 40524, 40525, 40526, 40527, 40528, 40529, 40530, 40531, 40553, 40554, 40555, 40671, 40673, 40674, 41024, 41025, 41026, 41027, 41028, 41066, 41067, 41068, 41069, 41070, 41071, 41072, 41073, 41074, 41075, 41076, 41077, 41078, 41079, 41080, 41746, 41747, 41748, 41749, 41751, 42116, 42203, 42248, 42249, 42250, 42278, 42279, 42280, 42281, 42282, 42283, 42284, 42285, 42286, 42287, 42288, 42289, 42290, 42294, 42295, 42296, 42297, 42298, 42299, 42300, 42301, 42302, 42303, 42304, 42305, 42306, 42307, 42308, 42309, 42310, 42311, 42312, 42343, 42344, 42345, 42346, 42537, 42538, 42539, 42540, 42541, 42854, 42855, 42856, 42857, 42858, 42859, 42860, 42861, 42862, 42863, 42864, 43092, 43093, 43094, 43095, 43096, 43097, 43098, 43099, 43100, 43101, 43102, 43103, 43104, 43105, 43463, 43464, 43465, 43466, 43467, 43468, 43469, 43470, 43471, 43472, 43721, 43722, 43724, 43725, 43726, 43735, 43738, 43740, 43741, 43742, 43743, 43744, 43745, 43746, 43861, 43862, 43863, 43864, 43865, 43866, 43867, 43868, 43869, 43893, 43894, 43895, 43896, 43897, 43898, 43899, 43900, 44054, 44055, 44056, 44057, 44058, 44059, 44060, 44069, 44078, 44079, 44080, 44081, 44082, 44083, 44084, 44085, 44086, 44087, 44088, 44089, 44090, 44091, 44092, 44093, 44094, 44102, 44103, 44104, 44105, 44106, 44107, 44108, 44109, 44110, 44111, 44112, 44113, 44157, 44158, 44159, 44161, 44177, 44178, 44368, 44369, 44370, 44371, 44372, 44373, 44382, 44383, 44384, 44385, 44519, 44520, 44521, 44522, 44523, 44524, 44525, 44526, 44527, 44528, 44529, 44530, 44531, 44532, 44533, 44534, 44535, 44536, 44537, 44538, 44539, 44540, 44541, 44662, 44663, 44664, 44665, 44666, 44667, 44668, 44669, 44670, 44671, 44672, 44673, 44674, 44675, 44676, 44677, 44678, 44679, 44680, 44681, 44693, 44694, 44695, 44696, 44697, 44698, 44699, 44700, 44701, 44702, 44703, 44704, 44705, 44706, 44707, 44766, 44767, 44768, 44769, 44770, 44771, 44783, 44784, 44785, 44786, 44787, 44788, 44789, 44790, 44791, 44792, 44793, 44794, 44795, 44796, 44949, 44950, 44951, 45104, 45105, 45106, 45107, 45108, 45109, 45395, 45396, 45397, 45398, 45410, 45411, 45412, 45413, 45414, 45415, 45416, 45417, 45418, 45419, 45420, 45421, 45422, 45454, 45455, 45456, 45457, 45458, 45459, 45460, 45461, 45462, 45478, 45479, 45480, 45670, 45671, 45672, 45673, 45674, 45675, 46242, 46243, 46244, 46245, 46246, 46247, 46248, 46249, 46250, 46305, 46306, 46307, 46308, 46309, 46310, 46311, 46312, 46313, 46314, 46315, 46316, 46317, 46363, 46364, 46788, 46789, 46790, 46791, 46792, 47060, 47061, 47062, 47063, 47064, 47065, 47066, 47067, 47068, 47069, 47070, 47223, 47224, 47225, 47226, 47227, 47228, 47229, 47230, 47231, 47232, 47233, 47234, 47235, 47236, 47344, 47345, 47346, 47347, 47348, 47349, 47350, 47351, 47352, 47392, 47393, 47394, 47565, 47566, 47567, 47568, 47615, 47616, 47617, 47618, 47619, 47620, 47621, 47622, 47673, 47674, 47675, 47676, 47677, 47678, 47701, 47702, 47795, 47796, 47798, 47799, 47800, 47801, 47802, 47827, 47828, 48009, 48012, 48013, 48014, 48015, 48148, 48149, 48150, 48151, 48152, 48250, 48251, 48252, 48253, 48254, 48268, 48269, 48270, 48271, 48272, 48273, 48274, 48275, 48293, 48294, 48295, 48304, 48305, 48306, 48307, 48308, 48309, 48310, 48311, 48312, 48313, 48319, 48320, 48321, 48322, 48323, 48324, 48325, 48326, 48327, 48328, 48329, 48330, 48331, 48332, 48333, 48334, 48335, 48336, 48337, 48338, 48339, 48347, 48348, 48349, 48350, 48351, 48356, 48357, 48358, 48359, 48360, 48361, 48362, 48363, 48364, 48365, 48366, 48371, 48372, 48373, 48374, 48375, 48376, 48410, 48411, 48412, 48413, 48414, 48415, 48416, 48417, 48418, 48419, 48420, 48421, 48422, 48423, 48455, 48456, 48457, 48458, 48459, 48460, 48461, 48462, 48463, 48464, 48465, 48466, 48467, 48555, 48557, 48558, 48559, 48560, 48561, 48562, 48563, 48564, 48691, 48692, 48693, 48694, 48695, 48696, 48925, 48926, 48990, 49063, 49064, 49065, 49066, 49067, 49068, 49273, 49274, 49275, 49497, 49498, 49499, 49541, 49542, 49543, 49544, 49550, 49551, 49552, 49553, 49650, 49693, 49694, 49695, 49696, 49697, 49698, 49699, 49700, 49719, 49720, 49721, 49722, 49723, 49724, 49725, 49726, 49727, 49728, 49875, 49943, 49944, 49945, 49948, 49949, 49950, 49951, 49952, 49953, 49954, 49955, 49956, 49957, 49958, 49959, 49960, 49961, 49962, 49963, 49964, 49965, 49966, 49967, 49968, 49969, 49970, 49971, 49972, 49973, 49974, 49975, 49976, 49977, 49978, 49979, 49980, 49981, 49982, 50050, 50051, 50082, 50083, 50084, 50085, 50086, 50087, 50088, 50532, 50533, 50534, 50819, 50820, 50821, 50822, 50823, 50824, 50825, 50826, 50827, 50828, 51039, 51040, 51041, 51042]\n"
     ]
    }
   ],
   "source": [
    "print(errorList)"
   ]
  },
  {
   "cell_type": "code",
   "execution_count": 56,
   "metadata": {},
   "outputs": [
    {
     "name": "stdout",
     "output_type": "stream",
     "text": [
      "[[263.74038461538464, 206.14423076923077], [263.74038461538464, 206.14423076923077]]\n",
      "263.74038461538464\n",
      "242.18032786885246\n"
     ]
    }
   ],
   "source": [
    "print(fishMean[0])\n",
    "print(np.mean(fish[0][0].T[0]))\n",
    "print(np.mean(fish[0][1].T[0]))"
   ]
  },
  {
   "cell_type": "code",
   "execution_count": 28,
   "metadata": {},
   "outputs": [
    {
     "name": "stdout",
     "output_type": "stream",
     "text": [
      "[-0.7367002156721583, -0.5999999999999659, -33.578974358974364, 32.24227414330224]\n"
     ]
    }
   ],
   "source": [
    "#create array of distances between two fishes to find switching\n",
    "#[[i,0-i_1,0][i,1-i+1,1][i,0-i+1,1][i,1-i+1,0]]\n",
    "fishQuad=[]\n",
    "for i in range(len(fishMean)-1):\n",
    "    fishQuad.append([fishMean[i+1][0]-fishMean[i][0],fishMean[i+1][1]-fishMean[i][1],fishMean[i+1][1]-fishMean[i][0],fishMean[i+1][0]-fishMean[i][1]])\n",
    "print(fishQuad[0])"
   ]
  },
  {
   "cell_type": "code",
   "execution_count": null,
   "metadata": {},
   "outputs": [],
   "source": []
  }
 ],
 "metadata": {
  "kernelspec": {
   "display_name": "Python 3",
   "language": "python",
   "name": "python3"
  },
  "language_info": {
   "codemirror_mode": {
    "name": "ipython",
    "version": 3
   },
   "file_extension": ".py",
   "mimetype": "text/x-python",
   "name": "python",
   "nbconvert_exporter": "python",
   "pygments_lexer": "ipython3",
   "version": "3.7.0"
  }
 },
 "nbformat": 4,
 "nbformat_minor": 4
}
