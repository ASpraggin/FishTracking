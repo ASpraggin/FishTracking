{
 "cells": [
  {
   "cell_type": "code",
   "execution_count": 1,
   "metadata": {},
   "outputs": [],
   "source": [
    "import sys, cv2\n",
    "import numpy as np\n",
    "import tracktor_revised as tr\n",
    "import matplotlib.pyplot as plt\n",
    "import pickle\n",
    "import os"
   ]
  },
  {
   "cell_type": "code",
   "execution_count": 2,
   "metadata": {},
   "outputs": [
    {
     "name": "stdout",
     "output_type": "stream",
     "text": [
      "56214 frames, 30.0 frames per second.\n"
     ]
    }
   ],
   "source": [
    "# Open video file.\n",
    "video_file        = '../Data/SF_n2_t2_3113.mp4'\n",
    "cap               = cv2.VideoCapture(video_file)\n",
    "n_frames          = int(cap.get(cv2.CAP_PROP_FRAME_COUNT))\n",
    "fps               = cap.get(cv2.CAP_PROP_FPS)\n",
    "print(f'{n_frames} frames, {fps} frames per second.')\n",
    "\n",
    "# Contour detection parameters.\n",
    "block_size,offset = 15,13\n",
    "min_area,max_area = 20,1000\n",
    "n_pix             = 5"
   ]
  },
  {
   "cell_type": "markdown",
   "metadata": {},
   "source": [
    "### Creating dataset from file"
   ]
  },
  {
   "cell_type": "code",
   "execution_count": null,
   "metadata": {},
   "outputs": [],
   "source": [
    "# List of frames to analyze.\n",
    "#frameID_list = range(5000,50000,50)\n",
    "frameID_list = range(5000,n_frames,1)\n",
    "\n",
    "# Data structure to hold only the pixels belonging to a fish and their brightness.\n",
    "fish = []\n",
    "\n",
    "#Uncomment line to make this cell run, commented to force notebook to use the .pkl file for speed. (This cell takes over an hour.)\n",
    "#for i in frameID_list:\n",
    "    \n",
    "    # Load the frame.\n",
    "    cap.set(cv2.CAP_PROP_POS_FRAMES, i-1)\n",
    "    ret,frame = cap.read()\n",
    "    \n",
    "    # Detect the contours.\n",
    "    contours  = tr.contour_detect(frame,min_area,max_area,block_size,offset,n_pix)\n",
    "    \n",
    "    # Make a mask with value j inside fish number j and -1 elsewhere. \n",
    "    mask      = 0*cv2.cvtColor(frame,cv2.COLOR_BGR2GRAY) - 1\n",
    "    for j in range(len(contours)):\n",
    "        cv2.drawContours(mask, contours, j, j, -1)\n",
    "    \n",
    "    # Make and save a list of each fish's pixels.\n",
    "    pixels=[]\n",
    "    subFish=[]\n",
    "    for j in range(len(contours)):\n",
    "        pixels=(np.nonzero(mask==j))\n",
    "        n =len(pixels[0]) # Number of pixels in J\n",
    "        subSubFish=[]\n",
    "        for k in range(n):\n",
    "            row=pixels[0][k]\n",
    "            col=pixels[1][k]\n",
    "            rgb=frame[row,col]\n",
    "            grey=round(.3*rgb[0]+.59*rgb[1]+.11*rgb[2],2)\n",
    "            subSubFish.append([row,col,grey]) #Pixel\n",
    "        subFish.append(np.array(subSubFish)) #Fish\n",
    "    fish.append(subFish) #Frame\n",
    "\n",
    "with open('fish.pkl','wb') as fh:\n",
    "     pickle.dump(fish,fh)"
   ]
  },
  {
   "cell_type": "code",
   "execution_count": 5,
   "metadata": {},
   "outputs": [],
   "source": [
    "with open('fish.pkl','rb') as fh:\n",
    "     fish=pickle.load(fh)"
   ]
  },
  {
   "cell_type": "markdown",
   "metadata": {},
   "source": [
    "### Graphs"
   ]
  },
  {
   "cell_type": "markdown",
   "metadata": {},
   "source": [
    "Creates a histogram of "
   ]
  },
  {
   "cell_type": "code",
   "execution_count": null,
   "metadata": {},
   "outputs": [],
   "source": [
    "bins=np.linspace(0,256,20)\n",
    "plt.figure(figsize=(10,10))\n",
    "colorList=['r','b']\n",
    "xlabel=('')\n",
    "ylabel=('')\n",
    "for i in range(len(fish)):\n",
    "    for j in range(len(fish[i])):\n",
    "        histArray=np.histogram(fish[i][j][:,2],bins=bins)\n",
    "        plt.plot(histArray[1][:-1],histArray[0],color=colorList[j])\n",
    "plt.show()"
   ]
  },
  {
   "cell_type": "markdown",
   "metadata": {},
   "source": [
    "Creates an array of the distance, brightness sum and brightness difference for the frame of greyFish"
   ]
  },
  {
   "cell_type": "code",
   "execution_count": null,
   "metadata": {},
   "outputs": [],
   "source": [
    "pairFrameData=[]\n",
    "for i in range(len(fish)):\n",
    "    for j in range(i):\n",
    "        distance=np.sqrt((fish[i][0][0]-fish[j][0][0])**2+(fish[i][0][1]-fish[j][0][1])**2)\n",
    "        brightness=fish[i][0][2]+fish[j][0][2]\n",
    "        difference=np.absolute(fish[i][0][2]-fish[j][0][2])\n",
    "        pairFrameData.append([distance,brightness,difference])\n",
    "pairFrameData=np.array(pairFrameData).T\n",
    "print(pairFrameData)"
   ]
  },
  {
   "cell_type": "markdown",
   "metadata": {},
   "source": [
    "Creates a 2d histogram of the first frame of greyFish using sum then difference of brightnesses"
   ]
  },
  {
   "cell_type": "code",
   "execution_count": null,
   "metadata": {},
   "outputs": [],
   "source": [
    "histArray=np.histogram(pairFrameData[0])\n",
    "plt.plot(histArray[1][:-1],histArray[0])\n",
    "plt.show()\n",
    "\n",
    "heightValuesSum,bin1Sum,bin2sum=np.histogram2d(pairFrameData[0],pairFrameData[1])\n",
    "plt.hist2d(pairFrameData[0],pairFrameData[1])\n",
    "plt.show()\n",
    "\n",
    "heightValuesDifference,bin1Difference,bin2Difference=np.histogram2d(pairFrameData[0],pairFrameData[2])\n",
    "plt.hist2d(pairFrameData[0],pairFrameData[2])\n",
    "plt.show()"
   ]
  },
  {
   "cell_type": "markdown",
   "metadata": {},
   "source": [
    "Creates an array of the distance difference[0], brightness sum[1], and brightness difference[2] for every frame of greyFish"
   ]
  },
  {
   "cell_type": "code",
   "execution_count": null,
   "metadata": {},
   "outputs": [],
   "source": [
    "#Creates an array of the distance difference[0], brightness sum[1], and brightness difference[2] for every frame of greyFish\n",
    "bins=np.linspace(0,500,20)\n",
    "histDifferenceData=[]\n",
    "for k in range(len(greyFish)):\n",
    "    pairsData=[]\n",
    "    for i in range(greyFish[k].shape[1]):\n",
    "        for j in range(i):\n",
    "            distance=np.sqrt((greyFish[k][0][i]-greyFish[k][0][j])**2+(greyFish[k][1][i]-greyFish[k][1][j])**2)\n",
    "            brightness=greyFish[k][2][i]+greyFish[k][2][j]\n",
    "            difference=np.absolute(greyFish[k][2][i]-greyFish[k][2][j])\n",
    "            pairsData.append([distance,brightness,difference])\n",
    "    pairsData=np.array(pairsData).T\n",
    "    histDifferenceData.append(np.histogram2d(pairsData[0],pairsData[2],bins=[bin1Difference,bin2Difference]))"
   ]
  },
  {
   "cell_type": "code",
   "execution_count": null,
   "metadata": {},
   "outputs": [],
   "source": [
    "#Calculates the euclidan difference between the first frame of histDifferenceData and every other frame using: the distance in [0], the brightnes sums in [1], and the brightness diffrerence in [2]\n",
    "twodDifferenceArray=[]\n",
    "for i in range(len(histDifferenceData)):\n",
    "    twodDifferenceSubArray=[]\n",
    "    twodDifferenceSubArray=np.linalg.norm(histDifferenceData[i][0]-histDifferenceData[0][0])\n",
    "    twodDifferenceArray.append(twodDifferenceSubArray)"
   ]
  },
  {
   "cell_type": "code",
   "execution_count": null,
   "metadata": {},
   "outputs": [],
   "source": [
    "#Plots histogram of distance values\n",
    "histArray=np.histogram(twodDifferenceArray)\n",
    "plt.plot(histArray[1][:-1],histArray[0])\n",
    "plt.show()"
   ]
  },
  {
   "cell_type": "markdown",
   "metadata": {},
   "source": [
    "### Fish Overlap Check"
   ]
  },
  {
   "cell_type": "code",
   "execution_count": 40,
   "metadata": {},
   "outputs": [
    {
     "ename": "IndexError",
     "evalue": "list index out of range",
     "output_type": "error",
     "traceback": [
      "\u001b[1;31m---------------------------------------------------------------------------\u001b[0m",
      "\u001b[1;31mIndexError\u001b[0m                                Traceback (most recent call last)",
      "\u001b[1;32m<ipython-input-40-3b89efa18b2e>\u001b[0m in \u001b[0;36m<module>\u001b[1;34m\u001b[0m\n\u001b[0;32m     17\u001b[0m         \u001b[0mi\u001b[0m\u001b[1;33m=\u001b[0m\u001b[0mi\u001b[0m\u001b[1;33m+\u001b[0m\u001b[0mj\u001b[0m\u001b[1;33m\u001b[0m\u001b[0m\n\u001b[0;32m     18\u001b[0m     \u001b[1;31m#print(crossedSubList2)\u001b[0m\u001b[1;33m\u001b[0m\u001b[1;33m\u001b[0m\u001b[0m\n\u001b[1;32m---> 19\u001b[1;33m     \u001b[0mnonoverlappingRanges\u001b[0m\u001b[1;33m.\u001b[0m\u001b[0mappend\u001b[0m\u001b[1;33m(\u001b[0m\u001b[1;33m[\u001b[0m\u001b[0mcrossedSubList2\u001b[0m\u001b[1;33m[\u001b[0m\u001b[1;36m0\u001b[0m\u001b[1;33m]\u001b[0m\u001b[1;33m,\u001b[0m\u001b[0mcrossedSubList2\u001b[0m\u001b[1;33m[\u001b[0m\u001b[1;33m-\u001b[0m\u001b[1;36m1\u001b[0m\u001b[1;33m]\u001b[0m\u001b[1;33m]\u001b[0m\u001b[1;33m)\u001b[0m\u001b[1;33m\u001b[0m\u001b[0m\n\u001b[0m\u001b[0;32m     20\u001b[0m \u001b[0mprint\u001b[0m\u001b[1;33m(\u001b[0m\u001b[0mnonoverlappingRanges\u001b[0m\u001b[1;33m)\u001b[0m\u001b[1;33m\u001b[0m\u001b[0m\n\u001b[0;32m     21\u001b[0m \u001b[1;33m\u001b[0m\u001b[0m\n",
      "\u001b[1;31mIndexError\u001b[0m: list index out of range"
     ]
    }
   ],
   "source": [
    "crossedList=[]\n",
    "for i in range(len(fish)):\n",
    "    if len(fish[i])==1:\n",
    "        crossedList.append(i)\n",
    "\n",
    "nonoverlappingRanges=[]\n",
    "overlappingRanges=[]\n",
    "for i in range(len(fish)): \n",
    "#while i <= len(fish):\n",
    "    crossedSubList2=[]\n",
    "    if len(fish[i])!=1:\n",
    "        for j in range(len(fish[i:-1])):\n",
    "            if len(fish[i+j])!=1:\n",
    "                crossedSubList2.append(i+j)\n",
    "            else:\n",
    "                break\n",
    "        i=i+j\n",
    "    #print(crossedSubList2)\n",
    "    nonoverlappingRanges.append([crossedSubList2[0],crossedSubList2[-1]])\n",
    "print(nonoverlappingRanges)\n",
    "\n",
    "for i in range(len(nonoverlappingRanges)-1):\n",
    "    overlappingRanges.append([nonoverlappingRanges[[i][-1],nonoverlappingRanges[i+1][0]])\n",
    "        \n",
    "'''\n",
    "nonoverlappingRanges=[[],[]]\n",
    "overlappingRanges=[[],[]]\n",
    "for start,stop in nonoverlappingRanges:\n",
    "    fist[start:stop]\n",
    "'''"
   ]
  },
  {
   "cell_type": "code",
   "execution_count": 3,
   "metadata": {},
   "outputs": [
    {
     "ename": "NameError",
     "evalue": "name 'crossedList' is not defined",
     "output_type": "error",
     "traceback": [
      "\u001b[1;31m---------------------------------------------------------------------------\u001b[0m",
      "\u001b[1;31mNameError\u001b[0m                                 Traceback (most recent call last)",
      "\u001b[1;32m<ipython-input-3-f6c26a19a695>\u001b[0m in \u001b[0;36m<module>\u001b[1;34m\u001b[0m\n\u001b[0;32m      3\u001b[0m \u001b[0mlongestDistance\u001b[0m\u001b[1;33m=\u001b[0m\u001b[1;33m[\u001b[0m\u001b[1;33m]\u001b[0m\u001b[1;33m\u001b[0m\u001b[0m\n\u001b[0;32m      4\u001b[0m \u001b[0mdistance\u001b[0m\u001b[1;33m=\u001b[0m\u001b[1;36m0\u001b[0m\u001b[1;33m\u001b[0m\u001b[0m\n\u001b[1;32m----> 5\u001b[1;33m \u001b[1;32mfor\u001b[0m \u001b[0mi\u001b[0m \u001b[1;32min\u001b[0m \u001b[0mrange\u001b[0m\u001b[1;33m(\u001b[0m\u001b[0mlen\u001b[0m\u001b[1;33m(\u001b[0m\u001b[0mcrossedList\u001b[0m\u001b[1;33m)\u001b[0m\u001b[1;33m)\u001b[0m\u001b[1;33m:\u001b[0m\u001b[1;33m\u001b[0m\u001b[0m\n\u001b[0m\u001b[0;32m      6\u001b[0m     \u001b[1;32mif\u001b[0m \u001b[1;33m(\u001b[0m\u001b[0mcrossedList\u001b[0m\u001b[1;33m[\u001b[0m\u001b[0mi\u001b[0m\u001b[1;33m]\u001b[0m\u001b[1;33m-\u001b[0m\u001b[0mcrossedList\u001b[0m\u001b[1;33m[\u001b[0m\u001b[0mi\u001b[0m\u001b[1;33m-\u001b[0m\u001b[1;36m1\u001b[0m\u001b[1;33m]\u001b[0m\u001b[1;33m)\u001b[0m\u001b[1;33m>\u001b[0m\u001b[0mdistance\u001b[0m\u001b[1;33m:\u001b[0m\u001b[1;33m\u001b[0m\u001b[0m\n\u001b[0;32m      7\u001b[0m         \u001b[0mdistance\u001b[0m\u001b[1;33m=\u001b[0m\u001b[1;33m(\u001b[0m\u001b[0mcrossedList\u001b[0m\u001b[1;33m[\u001b[0m\u001b[0mi\u001b[0m\u001b[1;33m]\u001b[0m\u001b[1;33m-\u001b[0m\u001b[0mcrossedList\u001b[0m\u001b[1;33m[\u001b[0m\u001b[0mi\u001b[0m\u001b[1;33m-\u001b[0m\u001b[1;36m1\u001b[0m\u001b[1;33m]\u001b[0m\u001b[1;33m)\u001b[0m\u001b[1;33m\u001b[0m\u001b[0m\n",
      "\u001b[1;31mNameError\u001b[0m: name 'crossedList' is not defined"
     ]
    }
   ],
   "source": [
    "#Take a list of each strech where the fish don't cross so that we can check which fish is which after they cross by comparing it to either the first or the longest streach uncrossed\n",
    "#See 1 on fily's paper\n",
    "longestDistance=[]\n",
    "distance=0\n",
    "for i in range(len(crossedList)):\n",
    "    if (crossedList[i]-crossedList[i-1])>distance:\n",
    "        distance=(crossedList[i]-crossedList[i-1])\n",
    "        longestDistance=[distance,i,crossedList[i],crossedList[i-1]]\n",
    "print(longestDistance)"
   ]
  },
  {
   "cell_type": "code",
   "execution_count": 4,
   "metadata": {},
   "outputs": [],
   "source": [
    "#finding the center of each fish\n",
    "#2 on fily's paper\n",
    "fishMean=[]\n",
    "for i in range(len(fish)):\n",
    "    if len(fish[i])==1:\n",
    "        fishMean.append([[np.mean(fish[i][0].T[0]),np.mean(fish[i][0].T[1])],[np.mean(fish[i][0].T[0]),np.mean(fish[i][0].T[1])]])\n",
    "    else:\n",
    "        fishMean.append([[np.mean(fish[i][0].T[0]),np.mean(fish[i][0].T[1])],[np.mean(fish[i][1].T[0]),np.mean(fish[i][1].T[1])]])\n",
    "fishMean=np.asarray(fishMean)\n",
    "#fishMean[i.j.k] is hte coordianate of k of the position of fjsh j in frame i"
   ]
  },
  {
   "cell_type": "code",
   "execution_count": null,
   "metadata": {},
   "outputs": [],
   "source": [
    "plt.figure(figsize=(8,8))\n",
    "I = slice(0,5000)\n",
    "plt.plot(fishMean[I,0,0],fishMean[I,0,1])\n",
    "plt.plot(fishMean[I,1,0],fishMean[I,1,1])\n",
    "plt.show()"
   ]
  },
  {
   "cell_type": "code",
   "execution_count": 16,
   "metadata": {
    "collapsed": true,
    "jupyter": {
     "outputs_hidden": true
    }
   },
   "outputs": [
    {
     "name": "stdout",
     "output_type": "stream",
     "text": [
      "[[ 6.33055292 32.96158006]\n",
      " [ 6.33323856 32.60556489]\n",
      " [ 6.56219383 32.93001886]\n",
      " [11.14783034 24.45385815]\n",
      " [ 5.666198   32.02646255]\n",
      " [ 4.64663605 31.03869326]\n",
      " [ 5.46407282 27.448227  ]\n",
      " [ 7.18606262 20.19510573]\n",
      " [ 3.91395146 10.56577376]\n",
      " [ 0.         15.87755938]]\n"
     ]
    }
   ],
   "source": [
    "#create array of distances between two fishes to find switching\n",
    "#[[i,0-i+1,0][i,1-i+1,1][i,0-i+1,1][i,1-i+1,0]]\n",
    "fishQuad=[]\n",
    "fishQuadDistance=[]\n",
    "for i in range(len(fishMean)-1):\n",
    "    fishQuad.append([fishMean[i+1][0]-fishMean[i][0],fishMean[i+1][1]-fishMean[i][1],fishMean[i+1][1]-fishMean[i][0],fishMean[i+1][0]-fishMean[i][1]])\n",
    "    fishQuadDistance.append([abs(np.sqrt(abs((fishMean[i+1][0][0]-fishMean[i][0][0])**2+(fishMean[i+1][0][1]-fishMean[i][0][1])**2))-np.sqrt(abs((fishMean[i+1][1][0]-fishMean[i][1][0])**2+(fishMean[i+1][1][1]-fishMean[i][1][1])**2))),abs(np.sqrt(abs((fishMean[i+1][0][0]-fishMean[i][1][0])**2+(fishMean[i+1][0][1]-fishMean[i][0][1])**2))-np.sqrt(abs((fishMean[i+1][1][0]-fishMean[i][1][0])**2+(fishMean[i+1][1][1]-fishMean[i][0][1])**2)))])\n",
    "print(np.asarray(fishQuadDistance[0:10]))"
   ]
  },
  {
   "cell_type": "code",
   "execution_count": null,
   "metadata": {},
   "outputs": [],
   "source": []
  }
 ],
 "metadata": {
  "kernelspec": {
   "display_name": "Python 3",
   "language": "python",
   "name": "python3"
  },
  "language_info": {
   "codemirror_mode": {
    "name": "ipython",
    "version": 3
   },
   "file_extension": ".py",
   "mimetype": "text/x-python",
   "name": "python",
   "nbconvert_exporter": "python",
   "pygments_lexer": "ipython3",
   "version": "3.7.0"
  }
 },
 "nbformat": 4,
 "nbformat_minor": 4
}
