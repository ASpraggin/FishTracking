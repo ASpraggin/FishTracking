{
 "cells": [
  {
   "cell_type": "code",
   "execution_count": 1,
   "metadata": {},
   "outputs": [],
   "source": [
    "import sys, cv2\n",
    "import numpy as np\n",
    "import matplotlib.pyplot as plt\n",
    "import pickle\n",
    "import os\n",
    "import collections\n",
    "from dataclasses import dataclass\n",
    "from tqdm.notebook import tnrange, tqdm"
   ]
  },
  {
   "cell_type": "markdown",
   "metadata": {},
   "source": [
    "# Reading Dumped data"
   ]
  },
  {
   "cell_type": "code",
   "execution_count": 2,
   "metadata": {},
   "outputs": [],
   "source": [
    "with open('sortedFish.pik','rb') as f:\n",
    "    sortedFish=pickle.load(f)\n",
    "\n",
    "posU=sortedFish[0]\n",
    "nonOverlappingRange=sortedFish[1]\n",
    "fishU=sortedFish[2]"
   ]
  },
  {
   "cell_type": "markdown",
   "metadata": {},
   "source": [
    "fishU=frame,fish,pixel,[row,col,grey]"
   ]
  },
  {
   "cell_type": "code",
   "execution_count": 3,
   "metadata": {},
   "outputs": [
    {
     "name": "stdout",
     "output_type": "stream",
     "text": [
      "262 30 113.57956808685125 111.0\n"
     ]
    },
    {
     "data": {
      "image/png": "[encoded data removed]",
      "text/plain": [
       "<Figure size 432x288 with 1 Axes>"
      ]
     },
     "metadata": {
      "needs_background": "light"
     },
     "output_type": "display_data"
    },
    {
     "name": "stdout",
     "output_type": "stream",
     "text": [
      "(array([    0,     1,     2, ..., 51211, 51212, 51213], dtype=int64),)\n"
     ]
    }
   ],
   "source": [
    "# Pixels should be over 150, here's how many are.\n",
    "pixelCount=[]\n",
    "for i in range(len(fishU)):\n",
    "    pixelCount.append(len(fishU[i][0]))\n",
    "print(max(pixelCount),min(pixelCount),np.mean(pixelCount),np.median(pixelCount))\n",
    "plt.hist(pixelCount)\n",
    "plt.show()\n",
    "pixelCount=np.array(pixelCount)\n",
    "print(np.where(pixelCount<150))"
   ]
  },
  {
   "cell_type": "markdown",
   "metadata": {},
   "source": [
    "# Creating a distance histogram out of the sorted data"
   ]
  },
  {
   "cell_type": "markdown",
   "metadata": {},
   "source": [
    "### Creating histograms for the first fish over the first nonoverlapping range"
   ]
  },
  {
   "cell_type": "raw",
   "metadata": {},
   "source": [
    "binsDist=np.linspace(0,30,20)\n",
    "binsDif=np.linspace(0,50,20)\n",
    "binsSum=np.linspace(150,350,20)\n",
    "histSum=np.zeros((len(binsDist)-1,len(binsSum)-1))\n",
    "histDif=np.zeros((len(binsDist)-1,len(binsDif)-1))\n",
    "\n",
    "pairData=[]\n",
    "countSum=0\n",
    "countDif=0\n",
    "for k in range(*nonOverlappingRange[0]):\n",
    "    fishA=fishU[k][0]\n",
    "    for i in range(fishA.shape[0]):\n",
    "        for j in range(i):\n",
    "            d=np.sqrt((fishA[i,0]-fishA[j,0])**2+(fishA[i,1]-fishA[j,1])**2)\n",
    "            bSum=fishA[i,2]+fishA[j,2]\n",
    "            bDiff=fishA[i,2]-fishA[j,2]\n",
    "            pairData.append([d,bSum,bDiff])\n",
    "    pairDataT = np.array(pairData).T\n",
    "    heightValuesSum,_,_=np.histogram2d(pairDataT[0],pairDataT[1],bins=(binsDist,binsSum))\n",
    "    histSum+=heightValuesSum\n",
    "    countSum+=1\n",
    "    heightValuesDif,_,_=np.histogram2d(pairDataT[0],pairDataT[2],bins=(binsDist,binsDif))\n",
    "    histDif+=heightValuesDif\n",
    "    countDif+=1\n",
    "histSum/=countSum\n",
    "histDif/=countDif"
   ]
  },
  {
   "cell_type": "raw",
   "metadata": {},
   "source": [
    "fig=plt.figure(figsize=(10,5))\n",
    "\n",
    "ax = fig.add_subplot(121)\n",
    "plt.imshow(histSum[:,::-1].T,extent=[binsDist[0], binsDist[-1], binsSum[0], binsSum[-1]],aspect='auto')\n",
    "\n",
    "ax = fig.add_subplot(122)\n",
    "plt.imshow(histDif[:,::-1].T,extent=[binsDist[0], binsDist[-1], binsDif[0], binsDif[-1]],aspect='auto')\n",
    "\n",
    "plt.show()"
   ]
  },
  {
   "cell_type": "markdown",
   "metadata": {},
   "source": [
    "### Function to create histograms"
   ]
  },
  {
   "cell_type": "code",
   "execution_count": 4,
   "metadata": {},
   "outputs": [],
   "source": [
    "def histMaker(histData,bins1,bins2):\n",
    "    '''\n",
    "    Creates a 2d histogram.\n",
    "    \n",
    "    Input:\n",
    "        histData:Either histSum or histDif. Some sort of array?\n",
    "        bins1:The distance bins. np.linspace(int,int,int)\n",
    "        bins2:The sum/difference bins. np.linspace(int,int,int)\n",
    "    '''\n",
    "    #fig=plt.figure(figsize=(5,5))\n",
    "    \n",
    "    plt.imshow(histData[:,::-1].T,extent=[bins1[0], bins1[-1], bins2[0], bins2[-1]],aspect='auto')\n",
    "    plt.colorbar()\n",
    "    \n",
    "    #plt.show()"
   ]
  },
  {
   "cell_type": "markdown",
   "metadata": {},
   "source": [
    "### Creating histograms for two fish over the first n nonoverlapping ranges."
   ]
  },
  {
   "cell_type": "code",
   "execution_count": 5,
   "metadata": {},
   "outputs": [],
   "source": [
    "binsDist=np.linspace(0,30,30)\n",
    "binsDif=np.linspace(0,50,50)\n",
    "binsSum=np.linspace(150,350,200)\n",
    "histSum=np.zeros((len(binsDist)-1,len(binsSum)-1))\n",
    "histDif=np.zeros((len(binsDist)-1,len(binsDif)-1))"
   ]
  },
  {
   "cell_type": "code",
   "execution_count": null,
   "metadata": {},
   "outputs": [
    {
     "data": {
      "application/vnd.jupyter.widget-view+json": {
       "model_id": "b3832abd5eea4e2d91da23d0047e5e5a",
       "version_major": 2,
       "version_minor": 0
      },
      "text/plain": [
       "HBox(children=(FloatProgress(value=0.0, description='nonOverlappingRange', max=30.0, style=ProgressStyle(descr…"
      ]
     },
     "metadata": {},
     "output_type": "display_data"
    },
    {
     "data": {
      "application/vnd.jupyter.widget-view+json": {
       "model_id": "d563ad46e50242f4a4b7af3cf75940cc",
       "version_major": 2,
       "version_minor": 0
      },
      "text/plain": [
       "HBox(children=(FloatProgress(value=0.0, description='fish', max=2.0, style=ProgressStyle(description_width='in…"
      ]
     },
     "metadata": {},
     "output_type": "display_data"
    },
    {
     "data": {
      "application/vnd.jupyter.widget-view+json": {
       "model_id": "f876199d402e42ba87aeda25c8053141",
       "version_major": 2,
       "version_minor": 0
      },
      "text/plain": [
       "HBox(children=(FloatProgress(value=0.0, description='frame', max=137.0, style=ProgressStyle(description_width=…"
      ]
     },
     "metadata": {},
     "output_type": "display_data"
    },
    {
     "name": "stdout",
     "output_type": "stream",
     "text": [
      "\n"
     ]
    },
    {
     "data": {
      "application/vnd.jupyter.widget-view+json": {
       "model_id": "64d6c66800284739b623ad8d861b4445",
       "version_major": 2,
       "version_minor": 0
      },
      "text/plain": [
       "HBox(children=(FloatProgress(value=0.0, description='frame', max=137.0, style=ProgressStyle(description_width=…"
      ]
     },
     "metadata": {},
     "output_type": "display_data"
    },
    {
     "name": "stdout",
     "output_type": "stream",
     "text": [
      "\n",
      "\n"
     ]
    },
    {
     "data": {
      "application/vnd.jupyter.widget-view+json": {
       "model_id": "ee0eddca2c124f3eb7aa73830118aeaf",
       "version_major": 2,
       "version_minor": 0
      },
      "text/plain": [
       "HBox(children=(FloatProgress(value=0.0, description='fish', max=2.0, style=ProgressStyle(description_width='in…"
      ]
     },
     "metadata": {},
     "output_type": "display_data"
    },
    {
     "data": {
      "application/vnd.jupyter.widget-view+json": {
       "model_id": "e28a6bf309e544c8bffa69353b14ec26",
       "version_major": 2,
       "version_minor": 0
      },
      "text/plain": [
       "HBox(children=(FloatProgress(value=0.0, description='frame', max=66.0, style=ProgressStyle(description_width='…"
      ]
     },
     "metadata": {},
     "output_type": "display_data"
    },
    {
     "name": "stdout",
     "output_type": "stream",
     "text": [
      "\n"
     ]
    },
    {
     "data": {
      "application/vnd.jupyter.widget-view+json": {
       "model_id": "b82bc0b72501471286f012825bc64c89",
       "version_major": 2,
       "version_minor": 0
      },
      "text/plain": [
       "HBox(children=(FloatProgress(value=0.0, description='frame', max=66.0, style=ProgressStyle(description_width='…"
      ]
     },
     "metadata": {},
     "output_type": "display_data"
    },
    {
     "name": "stdout",
     "output_type": "stream",
     "text": [
      "\n",
      "\n"
     ]
    },
    {
     "data": {
      "application/vnd.jupyter.widget-view+json": {
       "model_id": "115480f3e6cc42e29f9df3a2ca56e2ad",
       "version_major": 2,
       "version_minor": 0
      },
      "text/plain": [
       "HBox(children=(FloatProgress(value=0.0, description='fish', max=2.0, style=ProgressStyle(description_width='in…"
      ]
     },
     "metadata": {},
     "output_type": "display_data"
    },
    {
     "data": {
      "application/vnd.jupyter.widget-view+json": {
       "model_id": "5c0fc185a7f34057aefa88918d529f12",
       "version_major": 2,
       "version_minor": 0
      },
      "text/plain": [
       "HBox(children=(FloatProgress(value=0.0, description='frame', max=40.0, style=ProgressStyle(description_width='…"
      ]
     },
     "metadata": {},
     "output_type": "display_data"
    },
    {
     "name": "stdout",
     "output_type": "stream",
     "text": [
      "\n"
     ]
    },
    {
     "data": {
      "application/vnd.jupyter.widget-view+json": {
       "model_id": "a9163419494b4ddaacc2c67164dd9086",
       "version_major": 2,
       "version_minor": 0
      },
      "text/plain": [
       "HBox(children=(FloatProgress(value=0.0, description='frame', max=40.0, style=ProgressStyle(description_width='…"
      ]
     },
     "metadata": {},
     "output_type": "display_data"
    },
    {
     "name": "stdout",
     "output_type": "stream",
     "text": [
      "\n",
      "\n"
     ]
    },
    {
     "data": {
      "application/vnd.jupyter.widget-view+json": {
       "model_id": "ef635e9c01694560b3704cdf9da31d99",
       "version_major": 2,
       "version_minor": 0
      },
      "text/plain": [
       "HBox(children=(FloatProgress(value=0.0, description='fish', max=2.0, style=ProgressStyle(description_width='in…"
      ]
     },
     "metadata": {},
     "output_type": "display_data"
    },
    {
     "data": {
      "application/vnd.jupyter.widget-view+json": {
       "model_id": "b978e58cc7884349a5d9c84b4f4bb38f",
       "version_major": 2,
       "version_minor": 0
      },
      "text/plain": [
       "HBox(children=(FloatProgress(value=0.0, description='frame', max=123.0, style=ProgressStyle(description_width=…"
      ]
     },
     "metadata": {},
     "output_type": "display_data"
    },
    {
     "name": "stdout",
     "output_type": "stream",
     "text": [
      "\n"
     ]
    },
    {
     "data": {
      "application/vnd.jupyter.widget-view+json": {
       "model_id": "c45815bfc74349b0a9658c6d71a0e3f0",
       "version_major": 2,
       "version_minor": 0
      },
      "text/plain": [
       "HBox(children=(FloatProgress(value=0.0, description='frame', max=123.0, style=ProgressStyle(description_width=…"
      ]
     },
     "metadata": {},
     "output_type": "display_data"
    },
    {
     "name": "stdout",
     "output_type": "stream",
     "text": [
      "\n",
      "\n"
     ]
    },
    {
     "data": {
      "application/vnd.jupyter.widget-view+json": {
       "model_id": "29b536c639234826ad00aee510fad638",
       "version_major": 2,
       "version_minor": 0
      },
      "text/plain": [
       "HBox(children=(FloatProgress(value=0.0, description='fish', max=2.0, style=ProgressStyle(description_width='in…"
      ]
     },
     "metadata": {},
     "output_type": "display_data"
    },
    {
     "data": {
      "application/vnd.jupyter.widget-view+json": {
       "model_id": "ec387b4809674fb7ad262ca609af561f",
       "version_major": 2,
       "version_minor": 0
      },
      "text/plain": [
       "HBox(children=(FloatProgress(value=0.0, description='frame', max=245.0, style=ProgressStyle(description_width=…"
      ]
     },
     "metadata": {},
     "output_type": "display_data"
    },
    {
     "name": "stdout",
     "output_type": "stream",
     "text": [
      "\n"
     ]
    },
    {
     "data": {
      "application/vnd.jupyter.widget-view+json": {
       "model_id": "febd62c353a34abeb99a5ad45a162206",
       "version_major": 2,
       "version_minor": 0
      },
      "text/plain": [
       "HBox(children=(FloatProgress(value=0.0, description='frame', max=245.0, style=ProgressStyle(description_width=…"
      ]
     },
     "metadata": {},
     "output_type": "display_data"
    },
    {
     "name": "stdout",
     "output_type": "stream",
     "text": [
      "\n",
      "\n"
     ]
    },
    {
     "data": {
      "application/vnd.jupyter.widget-view+json": {
       "model_id": "df919c313fa04f818521c2a03308f7c7",
       "version_major": 2,
       "version_minor": 0
      },
      "text/plain": [
       "HBox(children=(FloatProgress(value=0.0, description='fish', max=2.0, style=ProgressStyle(description_width='in…"
      ]
     },
     "metadata": {},
     "output_type": "display_data"
    },
    {
     "data": {
      "application/vnd.jupyter.widget-view+json": {
       "model_id": "22cf7af5782a45928db89b81359a8185",
       "version_major": 2,
       "version_minor": 0
      },
      "text/plain": [
       "HBox(children=(FloatProgress(value=0.0, description='frame', max=291.0, style=ProgressStyle(description_width=…"
      ]
     },
     "metadata": {},
     "output_type": "display_data"
    },
    {
     "name": "stdout",
     "output_type": "stream",
     "text": [
      "\n"
     ]
    },
    {
     "data": {
      "application/vnd.jupyter.widget-view+json": {
       "model_id": "e9aae6905ce54918a9fb8c42d2ed7f31",
       "version_major": 2,
       "version_minor": 0
      },
      "text/plain": [
       "HBox(children=(FloatProgress(value=0.0, description='frame', max=291.0, style=ProgressStyle(description_width=…"
      ]
     },
     "metadata": {},
     "output_type": "display_data"
    },
    {
     "name": "stdout",
     "output_type": "stream",
     "text": [
      "\n",
      "\n"
     ]
    },
    {
     "data": {
      "application/vnd.jupyter.widget-view+json": {
       "model_id": "40aafe36f20e42278022ec6ebabd4490",
       "version_major": 2,
       "version_minor": 0
      },
      "text/plain": [
       "HBox(children=(FloatProgress(value=0.0, description='fish', max=2.0, style=ProgressStyle(description_width='in…"
      ]
     },
     "metadata": {},
     "output_type": "display_data"
    },
    {
     "data": {
      "application/vnd.jupyter.widget-view+json": {
       "model_id": "355aaae4f1854390bee5237e1ee2d70e",
       "version_major": 2,
       "version_minor": 0
      },
      "text/plain": [
       "HBox(children=(FloatProgress(value=0.0, description='frame', max=246.0, style=ProgressStyle(description_width=…"
      ]
     },
     "metadata": {},
     "output_type": "display_data"
    },
    {
     "name": "stdout",
     "output_type": "stream",
     "text": [
      "\n"
     ]
    },
    {
     "data": {
      "application/vnd.jupyter.widget-view+json": {
       "model_id": "71f81875bd04459189a2add16484d2f3",
       "version_major": 2,
       "version_minor": 0
      },
      "text/plain": [
       "HBox(children=(FloatProgress(value=0.0, description='frame', max=246.0, style=ProgressStyle(description_width=…"
      ]
     },
     "metadata": {},
     "output_type": "display_data"
    },
    {
     "name": "stdout",
     "output_type": "stream",
     "text": [
      "\n",
      "\n"
     ]
    },
    {
     "data": {
      "application/vnd.jupyter.widget-view+json": {
       "model_id": "433afa174cf7488ab25d79b76b3a213a",
       "version_major": 2,
       "version_minor": 0
      },
      "text/plain": [
       "HBox(children=(FloatProgress(value=0.0, description='fish', max=2.0, style=ProgressStyle(description_width='in…"
      ]
     },
     "metadata": {},
     "output_type": "display_data"
    },
    {
     "data": {
      "application/vnd.jupyter.widget-view+json": {
       "model_id": "941fd5b67fba405d9e33599dd23f09db",
       "version_major": 2,
       "version_minor": 0
      },
      "text/plain": [
       "HBox(children=(FloatProgress(value=0.0, description='frame', max=35.0, style=ProgressStyle(description_width='…"
      ]
     },
     "metadata": {},
     "output_type": "display_data"
    },
    {
     "name": "stdout",
     "output_type": "stream",
     "text": [
      "\n"
     ]
    },
    {
     "data": {
      "application/vnd.jupyter.widget-view+json": {
       "model_id": "499b416e492444d3a954d0c40bc314d8",
       "version_major": 2,
       "version_minor": 0
      },
      "text/plain": [
       "HBox(children=(FloatProgress(value=0.0, description='frame', max=35.0, style=ProgressStyle(description_width='…"
      ]
     },
     "metadata": {},
     "output_type": "display_data"
    },
    {
     "name": "stdout",
     "output_type": "stream",
     "text": [
      "\n",
      "\n"
     ]
    },
    {
     "data": {
      "application/vnd.jupyter.widget-view+json": {
       "model_id": "02afb1fecd894cb8acb7c448a2ef481d",
       "version_major": 2,
       "version_minor": 0
      },
      "text/plain": [
       "HBox(children=(FloatProgress(value=0.0, description='fish', max=2.0, style=ProgressStyle(description_width='in…"
      ]
     },
     "metadata": {},
     "output_type": "display_data"
    },
    {
     "data": {
      "application/vnd.jupyter.widget-view+json": {
       "model_id": "53f2547454634b8a9c7cb954d14dbd22",
       "version_major": 2,
       "version_minor": 0
      },
      "text/plain": [
       "HBox(children=(FloatProgress(value=0.0, description='frame', max=140.0, style=ProgressStyle(description_width=…"
      ]
     },
     "metadata": {},
     "output_type": "display_data"
    },
    {
     "name": "stdout",
     "output_type": "stream",
     "text": [
      "\n"
     ]
    },
    {
     "data": {
      "application/vnd.jupyter.widget-view+json": {
       "model_id": "b5a319030d7d4c1eaa6dded4db4d1470",
       "version_major": 2,
       "version_minor": 0
      },
      "text/plain": [
       "HBox(children=(FloatProgress(value=0.0, description='frame', max=140.0, style=ProgressStyle(description_width=…"
      ]
     },
     "metadata": {},
     "output_type": "display_data"
    },
    {
     "name": "stdout",
     "output_type": "stream",
     "text": [
      "\n",
      "\n"
     ]
    },
    {
     "data": {
      "application/vnd.jupyter.widget-view+json": {
       "model_id": "7c8c4c9cf7bf4fbc8cbcddc4d992f4b4",
       "version_major": 2,
       "version_minor": 0
      },
      "text/plain": [
       "HBox(children=(FloatProgress(value=0.0, description='fish', max=2.0, style=ProgressStyle(description_width='in…"
      ]
     },
     "metadata": {},
     "output_type": "display_data"
    },
    {
     "data": {
      "application/vnd.jupyter.widget-view+json": {
       "model_id": "880126bcba22418c88f998a4e07e7c09",
       "version_major": 2,
       "version_minor": 0
      },
      "text/plain": [
       "HBox(children=(FloatProgress(value=0.0, description='frame', max=29.0, style=ProgressStyle(description_width='…"
      ]
     },
     "metadata": {},
     "output_type": "display_data"
    },
    {
     "name": "stdout",
     "output_type": "stream",
     "text": [
      "\n"
     ]
    },
    {
     "data": {
      "application/vnd.jupyter.widget-view+json": {
       "model_id": "cc445c96a3794d22901f5ea5b3be8390",
       "version_major": 2,
       "version_minor": 0
      },
      "text/plain": [
       "HBox(children=(FloatProgress(value=0.0, description='frame', max=29.0, style=ProgressStyle(description_width='…"
      ]
     },
     "metadata": {},
     "output_type": "display_data"
    },
    {
     "name": "stdout",
     "output_type": "stream",
     "text": [
      "\n",
      "\n"
     ]
    },
    {
     "data": {
      "application/vnd.jupyter.widget-view+json": {
       "model_id": "211365fb1c5448d3bcd8ec6969141de7",
       "version_major": 2,
       "version_minor": 0
      },
      "text/plain": [
       "HBox(children=(FloatProgress(value=0.0, description='fish', max=2.0, style=ProgressStyle(description_width='in…"
      ]
     },
     "metadata": {},
     "output_type": "display_data"
    },
    {
     "data": {
      "application/vnd.jupyter.widget-view+json": {
       "model_id": "b00fcebd0b864afab1e79b826b126b4a",
       "version_major": 2,
       "version_minor": 0
      },
      "text/plain": [
       "HBox(children=(FloatProgress(value=0.0, description='frame', max=422.0, style=ProgressStyle(description_width=…"
      ]
     },
     "metadata": {},
     "output_type": "display_data"
    },
    {
     "name": "stdout",
     "output_type": "stream",
     "text": [
      "\n"
     ]
    },
    {
     "data": {
      "application/vnd.jupyter.widget-view+json": {
       "model_id": "b0ef766e41bc4768ad6f16be533244a2",
       "version_major": 2,
       "version_minor": 0
      },
      "text/plain": [
       "HBox(children=(FloatProgress(value=0.0, description='frame', max=422.0, style=ProgressStyle(description_width=…"
      ]
     },
     "metadata": {},
     "output_type": "display_data"
    },
    {
     "name": "stdout",
     "output_type": "stream",
     "text": [
      "\n",
      "\n"
     ]
    },
    {
     "data": {
      "application/vnd.jupyter.widget-view+json": {
       "model_id": "bab43ee6dafb450eb79578731d6a7436",
       "version_major": 2,
       "version_minor": 0
      },
      "text/plain": [
       "HBox(children=(FloatProgress(value=0.0, description='fish', max=2.0, style=ProgressStyle(description_width='in…"
      ]
     },
     "metadata": {},
     "output_type": "display_data"
    },
    {
     "data": {
      "application/vnd.jupyter.widget-view+json": {
       "model_id": "82f9ae43045a467282d8131bb9537d74",
       "version_major": 2,
       "version_minor": 0
      },
      "text/plain": [
       "HBox(children=(FloatProgress(value=0.0, description='frame', max=10.0, style=ProgressStyle(description_width='…"
      ]
     },
     "metadata": {},
     "output_type": "display_data"
    },
    {
     "name": "stdout",
     "output_type": "stream",
     "text": [
      "\n"
     ]
    },
    {
     "data": {
      "application/vnd.jupyter.widget-view+json": {
       "model_id": "2b075f85665743198d01519a9adfb757",
       "version_major": 2,
       "version_minor": 0
      },
      "text/plain": [
       "HBox(children=(FloatProgress(value=0.0, description='frame', max=10.0, style=ProgressStyle(description_width='…"
      ]
     },
     "metadata": {},
     "output_type": "display_data"
    },
    {
     "name": "stdout",
     "output_type": "stream",
     "text": [
      "\n",
      "\n"
     ]
    },
    {
     "data": {
      "application/vnd.jupyter.widget-view+json": {
       "model_id": "47bbaa0b2e894b08bfa09bbbbd230495",
       "version_major": 2,
       "version_minor": 0
      },
      "text/plain": [
       "HBox(children=(FloatProgress(value=0.0, description='fish', max=2.0, style=ProgressStyle(description_width='in…"
      ]
     },
     "metadata": {},
     "output_type": "display_data"
    },
    {
     "data": {
      "application/vnd.jupyter.widget-view+json": {
       "model_id": "3ee68061af774359b617b57f9585c84c",
       "version_major": 2,
       "version_minor": 0
      },
      "text/plain": [
       "HBox(children=(FloatProgress(value=0.0, description='frame', max=881.0, style=ProgressStyle(description_width=…"
      ]
     },
     "metadata": {},
     "output_type": "display_data"
    },
    {
     "name": "stdout",
     "output_type": "stream",
     "text": [
      "\n"
     ]
    },
    {
     "data": {
      "application/vnd.jupyter.widget-view+json": {
       "model_id": "3e502678d83c48b5b50aefadd2a3a00e",
       "version_major": 2,
       "version_minor": 0
      },
      "text/plain": [
       "HBox(children=(FloatProgress(value=0.0, description='frame', max=881.0, style=ProgressStyle(description_width=…"
      ]
     },
     "metadata": {},
     "output_type": "display_data"
    }
   ],
   "source": [
    "#binsDist=np.linspace(0,30,30)\n",
    "#binsDif=np.linspace(0,50,50)\n",
    "#binsSum=np.linspace(150,350,200)\n",
    "#histSum=np.zeros((len(binsDist)-1,len(binsSum)-1))\n",
    "#histDif=np.zeros((len(binsDist)-1,len(binsDif)-1))\n",
    "\n",
    "histSumList={}\n",
    "histDifList={}\n",
    "\n",
    "#i=num nonOverlappingRanges\n",
    "#k=num fish\n",
    "#j=frame in nonOverlappingRange\n",
    "#l=pixels in frame\n",
    "#m=\n",
    "\n",
    "for i in tnrange(30,desc='nonOverlappingRange'):\n",
    "    for k in tnrange(2,desc='fish'):\n",
    "        countSum=0\n",
    "        countDif=0\n",
    "        pairData=[]\n",
    "        for j in tnrange(*nonOverlappingRange[i],desc='frame'):\n",
    "            fishList = fishU[j][k]\n",
    "            for l in range(fishList.shape[0]):\n",
    "                for m in range(l):\n",
    "                    d=np.sqrt((fishList[l,0]-fishList[m,0])**2+(fishList[l,1]-fishList[m,1])**2)\n",
    "                    bSum=fishList[l,2]+fishList[m,2]\n",
    "                    bDif=fishList[l,2]-fishList[m,2]\n",
    "                    pairData.append([d,bSum,bDif])\n",
    "            pairDataT = np.array(pairData).T\n",
    "            heightValuesSum,_,_=np.histogram2d(pairDataT[0],pairDataT[1],bins=(binsDist,binsSum))\n",
    "            histSum+=heightValuesSum\n",
    "            countSum+=1\n",
    "            heightValuesDif,_,_=np.histogram2d(pairDataT[0],pairDataT[2],bins=(binsDist,binsDif))\n",
    "            histDif+=heightValuesDif\n",
    "            countDif+=1\n",
    "        histSum/=countSum\n",
    "        #histSumList['nonOverlappingRange%s-fish%s'%(i,k)]=histSum.copy()\n",
    "        #nonOverlappingRange,fish\n",
    "        histSumList[i,k]=histSum.copy()\n",
    "        histDif/=countDif\n",
    "        #histDifList['nonOverlappingRange%s-fish%s'%(i,k)]=histDif.copy()\n",
    "        #nonOverlappingRange,fish\n",
    "        histDifList[i,k]=histDif.copy()\n",
    "\n",
    "        \n",
    "histLists=[histSumList,histDifList]\n",
    "#histLists={'histSumList':histSumList,'histDifList':histDifList}\n",
    "with open('histLists.pik','wb') as f:\n",
    "    pickle.dump(histLists,f)"
   ]
  },
  {
   "cell_type": "code",
   "execution_count": null,
   "metadata": {},
   "outputs": [],
   "source": [
    "with open('histLists.pik','rb') as f:\n",
    "    histLists=pickle.load(f)\n",
    "\n",
    "#globals().update(histLists)\n",
    "histSumList=histLists[0]\n",
    "histDifList=histLists[1]"
   ]
  },
  {
   "cell_type": "code",
   "execution_count": null,
   "metadata": {},
   "outputs": [],
   "source": [
    "n=len(histSumList.keys())\n",
    "plt.figure(figsize=(10,(n//2)*4))\n",
    "for i,k in enumerate(histSumList.keys()):\n",
    "    plt.subplot(n//2,2,i+1)\n",
    "    histMaker(histSumList[k],binsDist,binsSum)\n",
    "    plt.title(f'nonOverlappingRange{k[0]}, fish{k[1]}')\n",
    "plt.show()"
   ]
  },
  {
   "cell_type": "markdown",
   "metadata": {},
   "source": [
    "### Checking distances between the histograms\n",
    "\n",
    "# Use scipy.spatial.distance.cdist instead?"
   ]
  },
  {
   "cell_type": "code",
   "execution_count": null,
   "metadata": {},
   "outputs": [],
   "source": [
    "def swapStatus(histList):\n",
    "    '''\n",
    "    Detext swaps between consecutive nonOverlappingRanges based on brightness sum and difference.\n",
    "    \n",
    "    Input:\n",
    "        histList: . Dictionary\n",
    "    \n",
    "    Output:\n",
    "        Int. 0 if no swaps, 1 if swapped, 2 if overlapping.\n",
    "    '''\n",
    "    \n",
    "    #histList=list(histDict.values())\n",
    "    \n",
    "    distanceMatrix=[np.linalg.norm(histList[0,0]-histList[1,0]),\n",
    "        np.linalg.norm(histList[1,0]-histList[1,1]),\n",
    "        np.linalg.norm(histList[0,1]-histList[1,0]),\n",
    "        np.linalg.norm(histList[0,1]-histList[1,1])]\n",
    "    \n",
    "    swapCriteron=(distanceMatrix[0]+distanceMatrix[1])-(distanceMatrix[2]+distanceMatrix[3])\n",
    "    if abs(swapCriteron)<1e-10:\n",
    "        return 2 #Overlapping\n",
    "    elif swapCriteron>0:\n",
    "        return 1 #Swapped\n",
    "    elif swapCriteron<0:\n",
    "        return 0 #Normal\n",
    "    else:\n",
    "        return -1"
   ]
  },
  {
   "cell_type": "code",
   "execution_count": null,
   "metadata": {},
   "outputs": [],
   "source": [
    "swapStatus(histSumList)"
   ]
  },
  {
   "cell_type": "code",
   "execution_count": null,
   "metadata": {},
   "outputs": [],
   "source": [
    "dH=np.mean([np.absolute(histSumList[i,0]-histSumList[0,1]) for i in range(2)],axis=0)\n",
    "histMaker(dH,binsDist,binsDif)\n",
    "plt.show()\n",
    "\n",
    "H=histSumList\n",
    "distMat=np.array([[H[1,0]-H[0,0],H[1,0]-H[0,1]],\n",
    "                 [H[1,1]-H[0,0],H[1,1]-H[0,1]]])\n",
    "#multiply by dH, sum"
   ]
  },
  {
   "cell_type": "markdown",
   "metadata": {},
   "source": [
    "## Creating a graph on onaxis distances vs off axis distances"
   ]
  },
  {
   "cell_type": "code",
   "execution_count": null,
   "metadata": {},
   "outputs": [],
   "source": [
    "def swapMatrix(histList):\n",
    "    '''\n",
    "    Creates a list of pairs consisting of the onAxxiss distance and the off axis distance for a given set of histograms.\n",
    "    \n",
    "    Input:\n",
    "    \n",
    "    Output: [[,],[,]]\n",
    "    '''\n",
    "    nOverlap=list(histList.keys())[-1][0]\n",
    "    \n",
    "    distanceMatrix=[]\n",
    "    for i in range(nOverlap):\n",
    "        distSame=np.linalg.norm(histList[i+1,0]-histList[i,0])+np.linalg.norm(histList[i+1,1]-histList[i,1])\n",
    "        distDiff=np.linalg.norm(histList[i+1,1]-histList[i,0])+np.linalg.norm(histList[i+1,0]-histList[i,1])\n",
    "        distanceMatrix.append([distSame,distDiff])\n",
    "    \n",
    "    return(distanceMatrix)"
   ]
  },
  {
   "cell_type": "code",
   "execution_count": null,
   "metadata": {},
   "outputs": [],
   "source": [
    "distanceMatrix=swapMatrix(histSumList)\n",
    "\n",
    "plt.plot(np.asarray(distanceMatrix).T[0],label='Sum of Diagonal Distances')\n",
    "plt.plot(np.asarray(distanceMatrix).T[1],label='Sum of Off Diagonal Distances')\n",
    "plt.xlabel('Overlap Number')\n",
    "plt.legend(loc=(1.1,.5))\n",
    "plt.show()\n",
    "\n",
    "plt.scatter(np.asarray(distanceMatrix).T[0],label='Sum of Diagonal Distances')\n",
    "plt.scatter(np.asarray(distanceMatrix).T[1],label='Sum of Off Diagonal Distances')\n",
    "plt.xlabel('Overlap Number')\n",
    "plt.legend(loc=(1.1,.5))\n",
    "plt.show()"
   ]
  },
  {
   "cell_type": "code",
   "execution_count": null,
   "metadata": {},
   "outputs": [],
   "source": [
    "def swapLister(distanceMatrix):\n",
    "    '''\n",
    "    \n",
    "    '''\n",
    "    swapList=[]\n",
    "    \n",
    "    for i in range(len(distanceMatrix)):\n",
    "        if distanceMatrix[i][1]>distanceMatrix[i][0]:\n",
    "            swapList.append(i)\n",
    "        \n",
    "    return(swapList)"
   ]
  },
  {
   "cell_type": "code",
   "execution_count": null,
   "metadata": {},
   "outputs": [],
   "source": [
    "print(distanceMatrix)\n",
    "print(swapLister(swapMatrix(histSumList)))"
   ]
  },
  {
   "cell_type": "code",
   "execution_count": null,
   "metadata": {},
   "outputs": [],
   "source": [
    "distanceMatrix=swapMatrix(histDifList)\n",
    "\n",
    "plt.plot(np.asarray(distanceMatrix).T[0],label='Sum of Diagonal Distances')\n",
    "plt.plot(np.asarray(distanceMatrix).T[1],label='Sum of Off Diagonal Distances')\n",
    "plt.xlabel('Overlap Number')\n",
    "plt.legend(loc=(1.1,.5))\n",
    "plt.show()\n",
    "\n",
    "plt.scatter(np.asarray(distanceMatrix).T[0],label='Sum of Diagonal Distances')\n",
    "plt.scatter(np.asarray(distanceMatrix).T[1],label='Sum of Off Diagonal Distances')\n",
    "plt.xlabel('Overlap Number')\n",
    "plt.legend(loc=(1.1,.5))\n",
    "plt.show()"
   ]
  },
  {
   "cell_type": "code",
   "execution_count": null,
   "metadata": {},
   "outputs": [],
   "source": [
    "print(distanceMatrix)\n",
    "print(swapLister(swapMatrix(histDifList)))"
   ]
  }
 ],
 "metadata": {
  "kernelspec": {
   "display_name": "Python 3",
   "language": "python",
   "name": "python3"
  },
  "language_info": {
   "codemirror_mode": {
    "name": "ipython",
    "version": 3
   },
   "file_extension": ".py",
   "mimetype": "text/x-python",
   "name": "python",
   "nbconvert_exporter": "python",
   "pygments_lexer": "ipython3",
   "version": "3.7.3"
  }
 },
 "nbformat": 4,
 "nbformat_minor": 4
}
