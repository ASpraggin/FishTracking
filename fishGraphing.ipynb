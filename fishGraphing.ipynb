{
 "cells": [
  {
   "cell_type": "markdown",
   "metadata": {},
   "source": [
    "# Reading Dumped data"
   ]
  },
  {
   "cell_type": "code",
   "execution_count": null,
   "metadata": {},
   "outputs": [],
   "source": [
    "with open('sortedFish.pik','rb') as f:\n",
    "    sortedFish=pickle.load(f)\n",
    "\n",
    "posU=sortedFish[0]\n",
    "nonOverlappingRange=sortedFish[1]\n",
    "fishU=sortedFish[2]"
   ]
  },
  {
   "cell_type": "markdown",
   "metadata": {},
   "source": [
    "fishU=frame,fish,pixel,[row,col,grey]"
   ]
  },
  {
   "cell_type": "markdown",
   "metadata": {},
   "source": [
    "# Creating a distance histogram out of the sorted data"
   ]
  },
  {
   "cell_type": "raw",
   "metadata": {},
   "source": [
    "binsDist=np.linspace(0,30,10)\n",
    "binsDif=np.linspace(200,400,10)\n",
    "binsSum=np.linspace(0,40,10)\n",
    "histSum=np.zeros((len(binsDist)-1,len(binsSum)-1))\n",
    "histDif=np.zeros((len(binsDist)-1,len(binsDif)-1))"
   ]
  },
  {
   "cell_type": "code",
   "execution_count": null,
   "metadata": {},
   "outputs": [],
   "source": [
    "binsDist=np.linspace(0,30,20)\n",
    "binsDif=np.linspace(0,50,20)\n",
    "binsSum=np.linspace(150,350,20)\n",
    "histSum=np.zeros((len(binsDist)-1,len(binsSum)-1))\n",
    "histDif=np.zeros((len(binsDist)-1,len(binsDif)-1))\n",
    "\n",
    "pairData=[]\n",
    "countSum=0\n",
    "countDif=0\n",
    "for k in range(*nonOverlappingRange[0]):\n",
    "    fishA=fishU[k][0]\n",
    "    for i in range(fishA.shape[0]):\n",
    "        for j in range(i):\n",
    "            d=np.sqrt((fishA[i,0]-fishA[j,0])**2+(fishA[i,1]-fishA[j,1])**2)\n",
    "            bSum=fishA[i,2]+fishA[j,2]\n",
    "            bDiff=fishA[i,2]-fishA[j,2]\n",
    "            pairData.append([d,bSum,bDiff])\n",
    "    pairDataT = np.array(pairData).T\n",
    "    heightValuesSum,_,_=np.histogram2d(pairDataT[0],pairDataT[1],bins=(binsDist,binsSum))\n",
    "    histSum+=heightValuesSum\n",
    "    countSum+=1\n",
    "    heightValuesDif,_,_=np.histogram2d(pairDataT[0],pairDataT[2],bins=(binsDist,binsDif))\n",
    "    histDif+=heightValuesDif\n",
    "    countDif+=1\n",
    "histSum/=countSum\n",
    "histDif/=countDif\n",
    "\n",
    "# do a column map"
   ]
  },
  {
   "cell_type": "code",
   "execution_count": null,
   "metadata": {},
   "outputs": [],
   "source": [
    "fig=plt.figure(figsize=(10,5))\n",
    "\n",
    "ax = fig.add_subplot(121)\n",
    "plt.imshow(histSum[:,::-1].T,extent=[binsDist[0], binsDist[-1], binsSum[0], binsSum[-1]],aspect='auto')\n",
    "\n",
    "ax = fig.add_subplot(122)\n",
    "plt.imshow(histDif[:,::-1].T,extent=[binsDist[0], binsDist[-1], binsDif[0], binsDif[-1]],aspect='auto')\n",
    "\n",
    "plt.show()"
   ]
  },
  {
   "cell_type": "code",
   "execution_count": null,
   "metadata": {},
   "outputs": [],
   "source": []
  }
 ],
 "metadata": {
  "kernelspec": {
   "display_name": "Python 3",
   "language": "python",
   "name": "python3"
  },
  "language_info": {
   "codemirror_mode": {
    "name": "ipython",
    "version": 3
   },
   "file_extension": ".py",
   "mimetype": "text/x-python",
   "name": "python",
   "nbconvert_exporter": "python",
   "pygments_lexer": "ipython3",
   "version": "3.7.3"
  }
 },
 "nbformat": 4,
 "nbformat_minor": 2
}
