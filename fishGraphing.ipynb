{
 "cells": [
  {
   "cell_type": "code",
   "execution_count": 3,
   "metadata": {},
   "outputs": [],
   "source": [
    "import sys, cv2\n",
    "import numpy as np\n",
    "import matplotlib.pyplot as plt\n",
    "import pickle\n",
    "import os\n",
    "import collections"
   ]
  },
  {
   "cell_type": "markdown",
   "metadata": {},
   "source": [
    "# Reading Dumped data"
   ]
  },
  {
   "cell_type": "code",
   "execution_count": 4,
   "metadata": {},
   "outputs": [],
   "source": [
    "with open('sortedFish.pik','rb') as f:\n",
    "    sortedFish=pickle.load(f)\n",
    "\n",
    "posU=sortedFish[0]\n",
    "nonOverlappingRange=sortedFish[1]\n",
    "fishU=sortedFish[2]"
   ]
  },
  {
   "cell_type": "markdown",
   "metadata": {},
   "source": [
    "fishU=frame,fish,pixel,[row,col,grey]"
   ]
  },
  {
   "cell_type": "markdown",
   "metadata": {},
   "source": [
    "# Creating a distance histogram out of the sorted data"
   ]
  },
  {
   "cell_type": "markdown",
   "metadata": {},
   "source": [
    "### Creating histograms for the first fish over the first nonoverlapping range"
   ]
  },
  {
   "cell_type": "raw",
   "metadata": {},
   "source": [
    "binsDist=np.linspace(0,30,10)\n",
    "binsDif=np.linspace(200,400,10)\n",
    "binsSum=np.linspace(0,40,10)\n",
    "histSum=np.zeros((len(binsDist)-1,len(binsSum)-1))\n",
    "histDif=np.zeros((len(binsDist)-1,len(binsDif)-1))"
   ]
  },
  {
   "cell_type": "code",
   "execution_count": null,
   "metadata": {},
   "outputs": [],
   "source": [
    "binsDist=np.linspace(0,30,20)\n",
    "binsDif=np.linspace(0,50,20)\n",
    "binsSum=np.linspace(150,350,20)\n",
    "histSum=np.zeros((len(binsDist)-1,len(binsSum)-1))\n",
    "histDif=np.zeros((len(binsDist)-1,len(binsDif)-1))\n",
    "\n",
    "pairData=[]\n",
    "countSum=0\n",
    "countDif=0\n",
    "for k in range(*nonOverlappingRange[0]):\n",
    "    fishA=fishU[k][0]\n",
    "    for i in range(fishA.shape[0]):\n",
    "        for j in range(i):\n",
    "            d=np.sqrt((fishA[i,0]-fishA[j,0])**2+(fishA[i,1]-fishA[j,1])**2)\n",
    "            bSum=fishA[i,2]+fishA[j,2]\n",
    "            bDiff=fishA[i,2]-fishA[j,2]\n",
    "            pairData.append([d,bSum,bDiff])\n",
    "    pairDataT = np.array(pairData).T\n",
    "    heightValuesSum,_,_=np.histogram2d(pairDataT[0],pairDataT[1],bins=(binsDist,binsSum))\n",
    "    histSum+=heightValuesSum\n",
    "    countSum+=1\n",
    "    heightValuesDif,_,_=np.histogram2d(pairDataT[0],pairDataT[2],bins=(binsDist,binsDif))\n",
    "    histDif+=heightValuesDif\n",
    "    countDif+=1\n",
    "histSum/=countSum\n",
    "histDif/=countDif"
   ]
  },
  {
   "cell_type": "code",
   "execution_count": null,
   "metadata": {},
   "outputs": [],
   "source": [
    "fig=plt.figure(figsize=(10,5))\n",
    "\n",
    "ax = fig.add_subplot(121)\n",
    "plt.imshow(histSum[:,::-1].T,extent=[binsDist[0], binsDist[-1], binsSum[0], binsSum[-1]],aspect='auto')\n",
    "\n",
    "ax = fig.add_subplot(122)\n",
    "plt.imshow(histDif[:,::-1].T,extent=[binsDist[0], binsDist[-1], binsDif[0], binsDif[-1]],aspect='auto')\n",
    "\n",
    "plt.show()"
   ]
  },
  {
   "cell_type": "markdown",
   "metadata": {},
   "source": [
    "### Function to create histograms"
   ]
  },
  {
   "cell_type": "code",
   "execution_count": 7,
   "metadata": {},
   "outputs": [],
   "source": [
    "def histMaker(histData,bins1,bins2):\n",
    "    '''\n",
    "    Creates a 2d histogram.\n",
    "    \n",
    "    Input:\n",
    "        histData:Either histSum or histDif. Some sort of array?\n",
    "        bins1:The distance bins. np.linspace(int,int,int)\n",
    "        bins2:The sum/difference bins. np.linspace(int,int,int)\n",
    "    '''\n",
    "    fig=plt.figure(figsize=(10,5))\n",
    "    \n",
    "    plt.imshow(histData[:,::-1].T,extent=[bins1[0], bins1[-1], bins2[0], bins2[-1]],aspect='auto')\n",
    "    \n",
    "    plt.show()"
   ]
  },
  {
   "cell_type": "markdown",
   "metadata": {},
   "source": [
    "### Creating histograms for two fish over the first two nonoverlapping ranges."
   ]
  },
  {
   "cell_type": "code",
   "execution_count": 5,
   "metadata": {},
   "outputs": [],
   "source": [
    "binsDist=np.linspace(0,30,20)\n",
    "binsDif=np.linspace(0,50,20)\n",
    "binsSum=np.linspace(150,350,20)\n",
    "histSum=np.zeros((len(binsDist)-1,len(binsSum)-1))\n",
    "histDif=np.zeros((len(binsDist)-1,len(binsDif)-1))\n",
    "\n",
    "fishList={}\n",
    "histSumList={}\n",
    "histDifList={}\n",
    "\n",
    "for i in range(2):\n",
    "    for k in range(2):\n",
    "        countSum=0\n",
    "        countDif=0\n",
    "        pairData=[]\n",
    "        for j in range(*nonOverlappingRange[i]):\n",
    "            fishList['fish%s-%s' % (k,j)] = fishU[j][k]\n",
    "            for l in range(fishList['fish%s-%s' % (k,j)].shape[0]):\n",
    "                for m in range(l):\n",
    "                    d=np.sqrt((fishList['fish%s-%s' % (k,j)][l,0]-fishList['fish%s-%s' % (k,j)][m,0])**2+(fishList['fish%s-%s' % (k,j)][l,1]-fishList['fish%s-%s' % (k,j)][m,1])**2)\n",
    "                    bSum=fishList['fish%s-%s' % (k,j)][l,2]+fishList['fish%s-%s' % (k,j)][m,2]\n",
    "                    bDif=fishList['fish%s-%s' % (k,j)][l,2]-fishList['fish%s-%s' % (k,j)][m,2]\n",
    "                    pairData.append([d,bSum,bDif])\n",
    "            pairDataT = np.array(pairData).T\n",
    "            heightValuesSum,_,_=np.histogram2d(pairDataT[0],pairDataT[1],bins=(binsDist,binsSum))\n",
    "            histSum+=heightValuesSum\n",
    "            countSum+=1\n",
    "            heightValuesDif,_,_=np.histogram2d(pairDataT[0],pairDataT[2],bins=(binsDist,binsDif))\n",
    "            histDif+=heightValuesDif\n",
    "            countDif+=1\n",
    "        histSum/=countSum\n",
    "        histSumList['nonOverlappingRange%s-fish%s'%(i,k)]=histSum\n",
    "        histDif/=countDif\n",
    "        histDifList['nonOverlappingRange%s-fish%s'%(i,k)]=histDif"
   ]
  },
  {
   "cell_type": "code",
   "execution_count": 8,
   "metadata": {},
   "outputs": [
    {
     "name": "stdout",
     "output_type": "stream",
     "text": [
      "dict_keys(['nonOverlappingRange0-fish0', 'nonOverlappingRange0-fish1', 'nonOverlappingRange1-fish0', 'nonOverlappingRange1-fish1'])\n",
      "nonOverlappingRange0-fish0\n"
     ]
    },
    {
     "data": {
      "image/png": "[encoded data removed]",
      "text/plain": [
       "<Figure size 720x360 with 1 Axes>"
      ]
     },
     "metadata": {
      "needs_background": "light"
     },
     "output_type": "display_data"
    },
    {
     "name": "stdout",
     "output_type": "stream",
     "text": [
      "nonOverlappingRange0-fish1\n"
     ]
    },
    {
     "data": {
      "image/png": "[encoded data removed]",
      "text/plain": [
       "<Figure size 720x360 with 1 Axes>"
      ]
     },
     "metadata": {
      "needs_background": "light"
     },
     "output_type": "display_data"
    },
    {
     "name": "stdout",
     "output_type": "stream",
     "text": [
      "nonOverlappingRange1-fish0\n"
     ]
    },
    {
     "data": {
      "image/png": "[encoded data removed]",
      "text/plain": [
       "<Figure size 720x360 with 1 Axes>"
      ]
     },
     "metadata": {
      "needs_background": "light"
     },
     "output_type": "display_data"
    },
    {
     "name": "stdout",
     "output_type": "stream",
     "text": [
      "nonOverlappingRange1-fish1\n"
     ]
    },
    {
     "data": {
      "image/png": "[encoded data removed]",
      "text/plain": [
       "<Figure size 720x360 with 1 Axes>"
      ]
     },
     "metadata": {
      "needs_background": "light"
     },
     "output_type": "display_data"
    }
   ],
   "source": [
    "print(histSumList.keys())\n",
    "for i in range(len(histSumList)):\n",
    "    print(list(histSumList.keys())[i])\n",
    "    histMaker(list(histSumList.values())[i],binsDist,binsSum)"
   ]
  },
  {
   "cell_type": "markdown",
   "metadata": {},
   "source": [
    "### Checking distances between the histograms"
   ]
  },
  {
   "cell_type": "code",
   "execution_count": null,
   "metadata": {},
   "outputs": [],
   "source": [
    "def swapStatus(histList,i):\n",
    "    '''\n",
    "    Detext swaps between consecutive nonOverlappingRanges based on brightness sum and difference.\n",
    "    \n",
    "    Input:\n",
    "        histList: . Dictionary\n",
    "        i: . Int.\n",
    "    \n",
    "    Output:\n",
    "        Int. 0 if no swaps, 1 if swapped, 2 if overlapping.\n",
    "    '''\n",
    "    distanceMatrix=[np.linalg.norm(histList.values(2)-hist.values(0)),\n",
    "        np.linalg.norm(histList.values(2)-hist.values(1)),\n",
    "        np.linalg.norm(histList.values(3)-hist.values(0)),\n",
    "        np.linalg.norm(histList.values(3)-hist.values(1))]\n",
    "    (distanceMatrix[0]+distanceMatrix[1])-(distanceMatrix[2]+distanceMatrix[3])\n",
    "    if abs(swapCriteron)<1e-10:\n",
    "        return 2 #Overlapping\n",
    "    elif swapCriteron>0:\n",
    "        return 1 #Swapped\n",
    "    elif swapCriteron<0:\n",
    "        return 0 #Normal\n",
    "    else:\n",
    "        return -1"
   ]
  },
  {
   "cell_type": "code",
   "execution_count": null,
   "metadata": {},
   "outputs": [],
   "source": []
  }
 ],
 "metadata": {
  "kernelspec": {
   "display_name": "Python 3",
   "language": "python",
   "name": "python3"
  },
  "language_info": {
   "codemirror_mode": {
    "name": "ipython",
    "version": 3
   },
   "file_extension": ".py",
   "mimetype": "text/x-python",
   "name": "python",
   "nbconvert_exporter": "python",
   "pygments_lexer": "ipython3",
   "version": "3.7.3"
  }
 },
 "nbformat": 4,
 "nbformat_minor": 2
}
