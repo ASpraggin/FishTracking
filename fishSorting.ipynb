{
 "cells": [
  {
   "cell_type": "code",
   "execution_count": 3,
   "metadata": {},
   "outputs": [],
   "source": [
    "import sys, cv2\n",
    "import numpy as np\n",
    "import tracktor_revised as tr\n",
    "import matplotlib.pyplot as plt\n",
    "import pickle\n",
    "import os\n",
    "import collections"
   ]
  },
  {
   "cell_type": "code",
   "execution_count": null,
   "metadata": {},
   "outputs": [],
   "source": [
    "# Open video file.\n",
    "video_file        = '../Data/SF_n2_t2_3113.mp4'\n",
    "cap               = cv2.VideoCapture(video_file)\n",
    "n_frames          = int(cap.get(cv2.CAP_PROP_FRAME_COUNT))\n",
    "fps               = cap.get(cv2.CAP_PROP_FPS)\n",
    "print(f'{n_frames} frames, {fps} frames per second.')\n",
    "\n",
    "# Contour detection parameters.\n",
    "block_size,offset = 15,13\n",
    "min_area,max_area = 20,1000\n",
    "n_pix             = 5"
   ]
  },
  {
   "cell_type": "markdown",
   "metadata": {
    "toc-hr-collapsed": true
   },
   "source": [
    "# Creating dataset from file"
   ]
  },
  {
   "cell_type": "markdown",
   "metadata": {},
   "source": [
    "## Manually creates the fish data set from the video file. This cell is currently disabled. "
   ]
  },
  {
   "cell_type": "code",
   "execution_count": null,
   "metadata": {},
   "outputs": [],
   "source": [
    "# List of frames to analyze.\n",
    "#frameID_list = range(5000,50000,50)\n",
    "frameID_list = range(5000,n_frames,1)\n",
    "\n",
    "# Data structure to hold only the pixels belonging to a fish and their brightness.\n",
    "fish = []\n",
    "\n",
    "#Uncomment line to make this cell run, commented to force notebook to use the .pkl file for speed. (This cell takes over an hour.)\n",
    "#for i in frameID_list:\n",
    "    \n",
    "    # Load the frame.\n",
    "    cap.set(cv2.CAP_PROP_POS_FRAMES, i-1)\n",
    "    ret,frame = cap.read()\n",
    "    \n",
    "    # Detect the contours.\n",
    "    contours  = tr.contour_detect(frame,min_area,max_area,block_size,offset,n_pix)\n",
    "    \n",
    "    # Make a mask with value j inside fish number j and -1 elsewhere. \n",
    "    mask      = 0*cv2.cvtColor(frame,cv2.COLOR_BGR2GRAY) - 1\n",
    "    for j in range(len(contours)):\n",
    "        cv2.drawContours(mask, contours, j, j, -1)\n",
    "    \n",
    "    # Make and save a list of each fish's pixels.\n",
    "    pixels=[]\n",
    "    subFish=[]\n",
    "    for j in range(len(contours)):\n",
    "        pixels=(np.nonzero(mask==j))\n",
    "        n =len(pixels[0]) # Number of pixels in J\n",
    "        subSubFish=[]\n",
    "        for k in range(n):\n",
    "            row=pixels[0][k]\n",
    "            col=pixels[1][k]\n",
    "            rgb=frame[row,col]\n",
    "            grey=round(.3*rgb[0]+.59*rgb[1]+.11*rgb[2],2)\n",
    "            subSubFish.append([row,col,grey]) #Pixel\n",
    "        subFish.append(np.array(subSubFish)) #Fish\n",
    "    fish.append(subFish) #Frame\n",
    "\n",
    "with open('fish.pkl','wb') as fh:\n",
    "     pickle.dump(fish,fh)"
   ]
  },
  {
   "cell_type": "markdown",
   "metadata": {},
   "source": [
    "## Reads fish.pkl to create fish."
   ]
  },
  {
   "cell_type": "code",
   "execution_count": null,
   "metadata": {},
   "outputs": [],
   "source": [
    "with open('fish.pkl','rb') as fh:\n",
    "     fish=pickle.load(fh)"
   ]
  },
  {
   "cell_type": "markdown",
   "metadata": {},
   "source": [
    "# Fish Overlap Check"
   ]
  },
  {
   "cell_type": "markdown",
   "metadata": {},
   "source": [
    "## Checks fish for sections where the program is reading the fish as one object due to proximity, and returns a list of where the fish are not overlapping."
   ]
  },
  {
   "cell_type": "code",
   "execution_count": null,
   "metadata": {},
   "outputs": [],
   "source": [
    "i2=0\n",
    "nonOverlappingRange=[]\n",
    "while i2<len(fish):\n",
    "    i1=i2\n",
    "    while i1<len(fish) and len(fish[i1])!=2:\n",
    "        i1+=1\n",
    "    i2=i1\n",
    "    while i2 < len(fish) and len(fish[i2])==2:\n",
    "        #find the first overlapping index\n",
    "        i2+=1\n",
    "    nonOverlappingRange.append([i1,i2])\n",
    "print(nonOverlappingRange)"
   ]
  },
  {
   "cell_type": "markdown",
   "metadata": {
    "toc-hr-collapsed": true
   },
   "source": [
    "## Finds the center of each fish."
   ]
  },
  {
   "cell_type": "code",
   "execution_count": null,
   "metadata": {},
   "outputs": [],
   "source": [
    "#finding the center of each fish\n",
    "#2 on fily's paper\n",
    "fishMean=[]\n",
    "for i in range(len(fish)):\n",
    "    if len(fish[i])==1:\n",
    "        fishMean.append([[np.mean(fish[i][0].T[0]),np.mean(fish[i][0].T[1])],[np.mean(fish[i][0].T[0]),np.mean(fish[i][0].T[1])]])\n",
    "    else:\n",
    "        fishMean.append([[np.mean(fish[i][0].T[0]),np.mean(fish[i][0].T[1])],[np.mean(fish[i][1].T[0]),np.mean(fish[i][1].T[1])]])\n",
    "fishMean=np.asarray(fishMean)\n",
    "#fishMean[i.j.k] is the coordianate of k of the position of fjsh j in frame i"
   ]
  },
  {
   "cell_type": "markdown",
   "metadata": {
    "toc-hr-collapsed": true
   },
   "source": [
    "## Measures the distance between each fish during each nonoverlapping section to vertifiy that they are the same fish."
   ]
  },
  {
   "cell_type": "code",
   "execution_count": null,
   "metadata": {},
   "outputs": [],
   "source": [
    "def swapStatus(pos,i):\n",
    "    '''\n",
    "    Detext swaps between consicutivve framses based on proximity.\n",
    "    \n",
    "    Input:\n",
    "        pos:Postionts. Array with shape (Nframes,Nfish,Ndimensions),\n",
    "        i: Frame index. Int.\n",
    "    \n",
    "    Output:\n",
    "        Int. 0 if no swaps, 1 if swapped, 2 if overlapping.\n",
    "    '''\n",
    "    nFish=pos.shape[1] #Number of fish\n",
    "    distanceMatrix=[np.linalg.norm(pos[i+1][0]-pos[i][0]),\n",
    "                    np.linalg.norm(pos[i+1][1]-pos[i][1]),\n",
    "                    np.linalg.norm(pos[i+1][0]-pos[i][1]),\n",
    "                    np.linalg.norm(pos[i+1][1]-pos[i][0])]\n",
    "    swapCriteron=(distanceMatrix[0]+distanceMatrix[1])-(distanceMatrix[2]+distanceMatrix[3])\n",
    "    if abs(swapCriteron)<1e-10:\n",
    "        return 2 #Overlapping\n",
    "    elif swapCriteron>0:\n",
    "        return 1 #Swapped\n",
    "    elif swapCriteron<0:\n",
    "        return 0 #Normal\n",
    "    else:\n",
    "        return -1"
   ]
  },
  {
   "cell_type": "code",
   "execution_count": null,
   "metadata": {},
   "outputs": [],
   "source": [
    "def normFunc(pos,i):\n",
    "    '''\n",
    "    Returns the distance between all possible combinations of 4 points to check whether the on or off axis diatance is larger.\n",
    "    \n",
    "    Input:\n",
    "        i: Index, int.\n",
    "    \n",
    "    Output:\n",
    "        1x4 list of distances.\n",
    "    '''\n",
    "    return [np.linalg.norm(pos[i+1][0]-pos[i][0]),\n",
    "           np.linalg.norm(pos[i+1][1]-pos[i][1]),\n",
    "           np.linalg.norm(pos[i+1][0]-pos[i][1]),\n",
    "           np.linalg.norm(pos[i+1][1]-pos[i][0])]\n",
    "\n",
    "\n",
    "fishQuadDistance=[]\n",
    "for i in range(len(fishMean)-1):\n",
    "    #print(i,j)\n",
    "    fishQuadDistance.append(np.array(normFunc(fishMean,i)))\n",
    "fishQuadDistance=np.array(fishQuadDistance)"
   ]
  },
  {
   "cell_type": "markdown",
   "metadata": {
    "toc-hr-collapsed": true
   },
   "source": [
    "## Unswapping the fish"
   ]
  },
  {
   "cell_type": "code",
   "execution_count": null,
   "metadata": {},
   "outputs": [],
   "source": [
    "pos=fishMean\n",
    "\n",
    "#Checks for swqps and creates list of swaped points\n",
    "i=0\n",
    "I=[]\n",
    "while i < len(pos):\n",
    "    j=i+1\n",
    "    while j<len(pos)-1 and swapStatus(pos,j)!=1:\n",
    "        j+=1\n",
    "    i=j+1\n",
    "    while i<len(pos)-1 and swapStatus(pos,i)!=1:\n",
    "        i+=1\n",
    "    I.append([j+1,i+1])\n",
    "    \n",
    "# As a natural consequence of how the loop is structured, it creates a pair of points that are outside of the array, which we then need to delete.\n",
    "del(I[-1])"
   ]
  },
  {
   "cell_type": "code",
   "execution_count": null,
   "metadata": {},
   "outputs": [],
   "source": [
    "posU=fishMean.copy()\n",
    "for j,i in I:\n",
    "    posU[j:i,:]=pos[j:i,[1,0]]\n",
    "\n",
    "status=[]\n",
    "for i in range(len(posU)-1):\n",
    "    status.append(swapStatus(posU,i))"
   ]
  },
  {
   "cell_type": "code",
   "execution_count": null,
   "metadata": {},
   "outputs": [],
   "source": [
    "fishQuadDistance1=[]\n",
    "for i in range(len(posU)-1):\n",
    "    fishQuadDistance1.append(np.array(normFunc(posU,i)))\n",
    "fishQuadDistance1=np.array(fishQuadDistance1)"
   ]
  },
  {
   "cell_type": "markdown",
   "metadata": {},
   "source": [
    "### Unswapping the original fish file"
   ]
  },
  {
   "cell_type": "code",
   "execution_count": null,
   "metadata": {},
   "outputs": [],
   "source": [
    "fishU=fish\n",
    "for i1,i2 in I:\n",
    "    for i in range(i1,i2):\n",
    "        if len(fishU[i])==2:\n",
    "            fishU[i][0]=fish[i][1]\n",
    "            fishU[i][1]=fish[i][0]"
   ]
  },
  {
   "cell_type": "markdown",
   "metadata": {},
   "source": [
    "# Dumping resultant data\n",
    "\n",
    "Dumps the sorted fishmeans and the nonOverlappingRange in a pickle file with [posU,nonOverlappingRange]"
   ]
  },
  {
   "cell_type": "code",
   "execution_count": null,
   "metadata": {},
   "outputs": [],
   "source": [
    "sortedFish=[posU,nonOverlappingRange,fishU]\n",
    "\n",
    "with open('sortedFish.pik','wb') as f:\n",
    "    pickle.dump(sortedFish,f)"
   ]
  },
  {
   "cell_type": "raw",
   "metadata": {},
   "source": [
    "sortedFish={'posU':posU,'nonOverlappingRange':nonOverlappingRange,'fishU':fishU}"
   ]
  }
 ],
 "metadata": {
  "kernelspec": {
   "display_name": "Python 3",
   "language": "python",
   "name": "python3"
  },
  "language_info": {
   "codemirror_mode": {
    "name": "ipython",
    "version": 3
   },
   "file_extension": ".py",
   "mimetype": "text/x-python",
   "name": "python",
   "nbconvert_exporter": "python",
   "pygments_lexer": "ipython3",
   "version": "3.7.3"
  }
 },
 "nbformat": 4,
 "nbformat_minor": 2
}
