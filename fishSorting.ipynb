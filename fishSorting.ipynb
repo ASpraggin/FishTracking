{
 "cells": [
  {
   "cell_type": "code",
   "execution_count": 3,
   "metadata": {},
   "outputs": [],
   "source": [
    "import sys, cv2\n",
    "import numpy as np\n",
    "#import tracktor_revised as tr\n",
    "import matplotlib.pyplot as plt\n",
    "import pickle\n",
    "import os\n",
    "import collections\n",
    "\n",
    "from importlib import reload\n",
    "import platform\n",
    "import re\n",
    "import datetime\n",
    "import multiprocessing\n",
    "from glob import glob\n",
    "import logging\n",
    "from tracker.tank import Tank\n",
    "from tracker.tracker import Tracker\n",
    "from tracker import utils"
   ]
  },
  {
   "cell_type": "markdown",
   "metadata": {},
   "source": [
    "<div class=\"alert alert-info\">\n",
    "  <h2>Current Attempt</h2>\n",
    "</div>"
   ]
  },
  {
   "cell_type": "code",
   "execution_count": 29,
   "metadata": {},
   "outputs": [
    {
     "name": "stdout",
     "output_type": "stream",
     "text": [
      "d- .git\n",
      "f- .gitignore\n",
      "d- .ipynb_checkpoints\n",
      "f- 1to1.png\n",
      "f- 1tohalf.png\n",
      "f- fish.pkl\n",
      "f- fishGraphing.ipynb\n",
      "f- fishOverlapManualCheck.ipynb\n",
      "f- fishSorting.ipynb\n",
      "d- frames\n",
      "f- histLists.pik\n",
      "f- manualOverlap.pik\n",
      "d- Obsolete\n",
      "f- overlapCheck.txt\n",
      "f- README.md\n",
      "d- report\n",
      "f- sortedFish.pik\n",
      "d- tracker\n",
      "d- __pycache__\n",
      "\n",
      "\n",
      "--- Pa_Fri_21dpf_GroupA_n2_20200619_1345.avi\n",
      "--- SF_n1_t4_3012.mp4\n",
      "--- SF_n2_t2_3113.mp4\n"
     ]
    }
   ],
   "source": [
    "for x in os.listdir('.'):\n",
    "    if os.path.isfile(x): \n",
    "        print('f-', x)\n",
    "    elif os.path.isdir(x): \n",
    "        print('d-', x)\n",
    "    elif os.path.islink(x): \n",
    "        print('l-', x)\n",
    "    else: \n",
    "        print('---', x)\n",
    "        \n",
    "print('\\n')\n",
    "        \n",
    "for x in os.listdir('../Fish_Tracking_Data'):\n",
    "    if os.path.isfile(x): \n",
    "        print('f-', x)\n",
    "    elif os.path.isdir(x): \n",
    "        print('d-', x)\n",
    "    elif os.path.islink(x): \n",
    "        print('l-', x)\n",
    "    else: \n",
    "        print('---', x)"
   ]
  },
  {
   "cell_type": "code",
   "execution_count": 19,
   "metadata": {},
   "outputs": [],
   "source": [
    "''' Select input files to track and an output directory for each. '''\n",
    "\n",
    "tracking_dir = 'tracker/output'\n",
    "\n",
    "# input_files = sorted(glob('../Fish_Tracking_Data/'))\n",
    "input_files = ['../Fish_Tracking_Data/SF_n2_t2_3113.mp4']\n",
    "\n",
    "# print(len(input_files))\n",
    "# display(input_files)\n",
    "\n",
    "input_dict = {}\n",
    "for input_file in input_files:\n",
    "    d,fn       = os.path.split(input_file)\n",
    "    fn,ext     = os.path.splitext(fn)\n",
    "    output_dir = os.path.join(tracking_dir,fn)\n",
    "    n_ind      = int(re.findall('_n(\\d+)[^\\d]*_',fn)[0])\n",
    "    \n",
    "    # If a repaired version exists, use that instead.\n",
    "    repaired_file = os.path.join(d,'repaired',fn+'-repaired'+ext)\n",
    "    input_file = repaired_file if os.path.exists(repaired_file) else input_file\n",
    "    \n",
    "    # If a trial file already exists, skip.\n",
    "    if os.path.exists(os.path.join(output_dir,'trial.pik')):\n",
    "        continue\n",
    "        \n",
    "    input_dict[input_file] = dict( output_dir=output_dir, n_ind=n_ind )\n",
    "\n",
    "for f,D in input_dict.items():\n",
    "    print(f)\n",
    "    print('   ',D)"
   ]
  },
  {
   "cell_type": "code",
   "execution_count": 20,
   "metadata": {},
   "outputs": [],
   "source": [
    "''' Create output directories. Trace tanks. '''\n",
    "\n",
    "for input_file,D in input_dict.items():\n",
    "    tracker = Tracker(input_video=input_file, **D)\n",
    "    \n",
    "    # Create output directory.\n",
    "    tracker.init_directory()\n",
    "    \n",
    "    # Create a link to the input video in the output directory.\n",
    "    input_shortcut = os.path.join(output_dir,'raw'+ext)\n",
    "    if not 'windows' in platform.system().lower() and not os.path.exists(input_shortcut):\n",
    "        os.symlink(os.path.relpath(input_file,output_dir),input_shortcut)\n",
    "        \n",
    "    # Trace or load tank.\n",
    "    tracker.init_tank()"
   ]
  },
  {
   "cell_type": "code",
   "execution_count": 21,
   "metadata": {},
   "outputs": [],
   "source": [
    "settings = dict(\n",
    "    t_start          = 0,     # Time at which to start tracking, in seconds.\n",
    "    t_end            = 3,    # Time at which to end tracking, in seconds.\n",
    "    \n",
    "    # Contour detection.\n",
    "    n_pixel_blur     =  7,    # square-root of n-pixels for threshold blurring\n",
    "    block_size       = 15,    # contour block size\n",
    "    threshold_offset = 13,    # threshold offset for contour-finding\n",
    "    min_area         = 50,    # minimum area for detection\n",
    "    max_area         = 400,   # maximum area for detection\n",
    "    ideal_area       = 200,   # ideal area to rank contours in first frame (default=(min_area+max_area)/2)\n",
    "    max_aspect       = 20,    # maximum aspect ratio for detection\n",
    "    ideal_aspect     = 3,     # ideal aspect ratio to rank contours in first frame (default=max_aspect/2)\n",
    "    area_penalty     = 0.5,   # weight of area change when connecting fish across frames\n",
    "    reversal_threshold = 0.5, # average frame-to-frame displacement against the director \n",
    "                            # over the last few frames to trigger a reversal. \n",
    "    live_preview     = False, # Toggle live preview of tracking.\n",
    "\n",
    "    # Background subtraction (for naive background subtraction only).\n",
    "    bkgSub_options   = dict( n_training_frames = 100, # number of frames used to compute background\n",
    "                             t_start = 0, t_end = -1, # time range used to compute background\n",
    "                             contrast_factor = 4 ),   # post-subtraction contrast enhancement factor\n",
    "    \n",
    "    # What information to draw on the tracking output video.\n",
    "    video_output_options = dict( tank=True, points=False, directors=True, timestamp=True, \n",
    "                                 contours=True, contour_color=(100,255,0), contour_thickness=1 )\n",
    "    )"
   ]
  },
  {
   "cell_type": "code",
   "execution_count": 22,
   "metadata": {},
   "outputs": [],
   "source": [
    "def track(input_file):\n",
    "    \n",
    "    globals().update(settings)\n",
    "    globals().update(input_dict[input_file])\n",
    "    video_output_options = settings['video_output_options']\n",
    "    \n",
    "    utils.add_log_file(os.path.join(output_dir,'log.txt'))\n",
    "    logging.info(utils.parindent+'Initializing')\n",
    "    tracker = Tracker( input_video=input_file, **input_dict[input_file], **settings )\n",
    "    tracker.init_all()\n",
    "    tracker.save_settings()\n",
    "\n",
    "    frames_dir = os.path.join(output_dir,'frames')\n",
    "\n",
    "    try:\n",
    "        tracker.set_frame(tracker.frame_start)\n",
    "        tracker.init_live_preview()\n",
    "        n_report = max(1,int((tracker.frame_end-tracker.frame_start)/50))\n",
    "        for i_frame in range(tracker.frame_start, tracker.frame_end+1):\n",
    "            if i_frame%n_report==0:\n",
    "                percent = (i_frame-tracker.frame_start)/(tracker.frame_end-tracker.frame_start)\n",
    "                logging.info(utils.parindent + f'Tracking: {tracker.get_current_timestamp()}, ' +\n",
    "                             f'{tracker.get_percent_complete():4.1f}% complete')\n",
    "            if tracker.get_next_frame():\n",
    "                # When b evaluates to True, intermediate tracking steps are saved \n",
    "                # as images in \"[output_dir]/frames\".\n",
    "                b = False # True # 260<tracker.frame_num<275 # \n",
    "                if b:\n",
    "                    if not os.path.exists(frames_dir):\n",
    "                        os.mkdir(frames_dir)\n",
    "#                     cv2.imwrite(os.path.join(frames_dir,f'{tracker.frame_num}-1_raw.png'),tracker.frame)\n",
    "                tracker.subtract_background()\n",
    "                tracker.mask_tank()\n",
    "                tracker.detect_contours()\n",
    "                tracker.connect_frames()\n",
    "                if b:\n",
    "#                         cv2.imwrite(os.path.join(frames_dir,f'{tracker.frame_num}-2_masked.png'),tracker.frame)\n",
    "                    video_output_options.update(directors=False)\n",
    "                    tracker.draw(**video_output_options)\n",
    "                    cv2.imwrite(os.path.join(frames_dir,f'{tracker.frame_num}-3_contours.png'),tracker.frame)\n",
    "                    video_output_options.update(directors=True)\n",
    "                tracker.draw(**video_output_options)\n",
    "                if b:\n",
    "                    cv2.imwrite(os.path.join(frames_dir,f'{tracker.frame_num}-4_directors.png'),tracker.frame)\n",
    "                tracker.write_frame()\n",
    "                if not tracker.post_frame(delay=1):\n",
    "                    break\n",
    "        tracker.release()\n",
    "        logging.info(utils.parindent+'Saving')\n",
    "        tracker.save_trial()\n",
    "        logging.info(utils.parindent+'Done')\n",
    "\n",
    "    except:\n",
    "        tracker.release()\n",
    "        logging.info('Failed')\n",
    "        for info in sys.exc_info():\n",
    "            logging.warning(info)\n",
    "        %tb\n",
    "\n",
    "    return"
   ]
  },
  {
   "cell_type": "code",
   "execution_count": 26,
   "metadata": {},
   "outputs": [
    {
     "ename": "KeyError",
     "evalue": "'../Fish_Tracking_Data/SF_n2_t2_3113.mp4'",
     "output_type": "error",
     "traceback": [
      "\u001b[1;31m---------------------------------------------------------------------------\u001b[0m",
      "\u001b[1;31mKeyError\u001b[0m                                  Traceback (most recent call last)",
      "\u001b[1;32m<ipython-input-26-ae3c337ec186>\u001b[0m in \u001b[0;36m<module>\u001b[1;34m\u001b[0m\n\u001b[0;32m     21\u001b[0m \u001b[1;33m\u001b[0m\u001b[0m\n\u001b[0;32m     22\u001b[0m \u001b[0mglobals\u001b[0m\u001b[1;33m(\u001b[0m\u001b[1;33m)\u001b[0m\u001b[1;33m.\u001b[0m\u001b[0mupdate\u001b[0m\u001b[1;33m(\u001b[0m\u001b[0msettings\u001b[0m\u001b[1;33m)\u001b[0m\u001b[1;33m\u001b[0m\u001b[1;33m\u001b[0m\u001b[0m\n\u001b[1;32m---> 23\u001b[1;33m \u001b[0mglobals\u001b[0m\u001b[1;33m(\u001b[0m\u001b[1;33m)\u001b[0m\u001b[1;33m.\u001b[0m\u001b[0mupdate\u001b[0m\u001b[1;33m(\u001b[0m\u001b[0minput_dict\u001b[0m\u001b[1;33m[\u001b[0m\u001b[0minput_file\u001b[0m\u001b[1;33m]\u001b[0m\u001b[1;33m)\u001b[0m\u001b[1;33m\u001b[0m\u001b[1;33m\u001b[0m\u001b[0m\n\u001b[0m\u001b[0;32m     24\u001b[0m \u001b[0mvideo_output_options\u001b[0m \u001b[1;33m=\u001b[0m \u001b[0msettings\u001b[0m\u001b[1;33m[\u001b[0m\u001b[1;34m'video_output_options'\u001b[0m\u001b[1;33m]\u001b[0m\u001b[1;33m\u001b[0m\u001b[1;33m\u001b[0m\u001b[0m\n\u001b[0;32m     25\u001b[0m \u001b[1;33m\u001b[0m\u001b[0m\n",
      "\u001b[1;31mKeyError\u001b[0m: '../Fish_Tracking_Data/SF_n2_t2_3113.mp4'"
     ]
    }
   ],
   "source": [
    "# Multi-threading doesn't work in Windows. If the OS is Windows, set n_thread to 1.\n",
    "n_threads = 1 if 'windows' in platform.system().lower() else 1\n",
    "\n",
    "if n_threads==1:\n",
    "\n",
    "    for input_file in input_dict.keys():\n",
    "        utils.reset_logging()\n",
    "        utils.add_log_stream(sys.stdout)\n",
    "        logging.info(input_file)\n",
    "        handler = logging.root.handlers[-1]\n",
    "        handler.terminator = ''\n",
    "        handler.setFormatter(logging.Formatter('\\r'+' '*80+'\\r     %(message)s'))\n",
    "        track(input_file)\n",
    "    \n",
    "else:\n",
    "    \n",
    "    utils.reset_logging()\n",
    "    pool = multiprocessing.Pool(n_threads)\n",
    "    pool.map(track,input_dict.keys())\n",
    "\n",
    "\n",
    "globals().update(settings)\n",
    "globals().update(input_dict[input_file])\n",
    "video_output_options = settings['video_output_options']\n",
    "\n",
    "utils.add_log_file(os.path.join(output_dir,'log.txt'))\n",
    "logging.info(utils.parindent+'Initializing')\n",
    "tracker = Tracker( input_video=input_file, **input_dict[input_file], **settings )\n",
    "tracker.init_all()\n",
    "tracker.save_settings()\n",
    "print()\n",
    "\n",
    "frames_dir = os.path.join(output_dir,'frames')\n",
    "if not os.path.exists(frames_dir):\n",
    "    os.mkdir(frames_dir)\n",
    "\n",
    "frame_list = [ 1,2 ]\n",
    "tracker.set_frame(frame_list[0])\n",
    "contourList=[] #!\n",
    "for i_frame in frame_list:\n",
    "    tracker.get_next_frame()\n",
    "    cv2.imwrite(os.path.join(frames_dir,f'{tracker.frame_num}-1_raw.png'),tracker.frame)\n",
    "    tracker.subtract_background()\n",
    "    cv2.imwrite(os.path.join(frames_dir,f'{tracker.frame_num}-2_subtracted.png'),tracker.frame)\n",
    "    tracker.mask_tank()\n",
    "    cv2.imwrite(os.path.join(frames_dir,f'{tracker.frame_num}-3_masked.png'),tracker.frame)\n",
    "    tracker.detect_contours()\n",
    "    tracker.connect_frames()\n",
    "    \n",
    "    print(tracker.frame.shape)\n",
    "    print(tracker.contours)\n",
    "    contourList.append(tracker.contours)\n",
    "    \n",
    "    break\n",
    "tracker.release()\n",
    "logging.info(utils.parindent+'Saving')\n",
    "tracker.save_trial()\n",
    "logging.info(utils.parindent+'Done')"
   ]
  },
  {
   "cell_type": "code",
   "execution_count": 27,
   "metadata": {},
   "outputs": [
    {
     "ename": "NameError",
     "evalue": "name 'contourList' is not defined",
     "output_type": "error",
     "traceback": [
      "\u001b[1;31m---------------------------------------------------------------------------\u001b[0m",
      "\u001b[1;31mNameError\u001b[0m                                 Traceback (most recent call last)",
      "\u001b[1;32m<ipython-input-27-a62a65198fdc>\u001b[0m in \u001b[0;36m<module>\u001b[1;34m\u001b[0m\n\u001b[1;32m----> 1\u001b[1;33m \u001b[0mprint\u001b[0m\u001b[1;33m(\u001b[0m\u001b[0mcontourList\u001b[0m\u001b[1;33m.\u001b[0m\u001b[0mshape\u001b[0m\u001b[1;33m)\u001b[0m\u001b[1;33m\u001b[0m\u001b[1;33m\u001b[0m\u001b[0m\n\u001b[0m",
      "\u001b[1;31mNameError\u001b[0m: name 'contourList' is not defined"
     ]
    }
   ],
   "source": [
    "print(contourList.shape)\n"
   ]
  },
  {
   "cell_type": "code",
   "execution_count": null,
   "metadata": {},
   "outputs": [],
   "source": [
    "frameID_list = range(5000,n_frames,1)\n",
    "\n",
    "#for i in frameID_list:\n",
    "    \n",
    "    # Load the frame.\n",
    "    cap.set(cv2.CAP_PROP_POS_FRAMES, i-1)\n",
    "    ret,frame = cap.read()\n",
    "    \n",
    "    # Detect the contours.\n",
    "    contours  = tr.contour_detect(frame,min_area,max_area,block_size,offset,n_pix)\n",
    "    \n",
    "    # Make a mask with value j inside fish number j and -1 elsewhere. \n",
    "    mask      = 0*cv2.cvtColor(frame,cv2.COLOR_BGR2GRAY) - 1\n",
    "    for j in range(len(contours)):\n",
    "        cv2.drawContours(mask, contours, j, j, -1)\n",
    "    \n",
    "    # Make and save a list of each fish's pixels.\n",
    "    pixels=[]\n",
    "    subFish=[]\n",
    "    for j in range(len(contours)):\n",
    "        pixels=(np.nonzero(mask==j))\n",
    "        n =len(pixels[0]) # Number of pixels in J\n",
    "        subSubFish=[]\n",
    "        for k in range(n):\n",
    "            row=pixels[0][k]\n",
    "            col=pixels[1][k]\n",
    "            rgb=frame[row,col]\n",
    "            grey=round(.3*rgb[0]+.59*rgb[1]+.11*rgb[2],2)\n",
    "            subSubFish.append([row,col,grey]) #Pixel\n",
    "        subFish.append(np.array(subSubFish)) #Fish\n",
    "    fish.append(subFish) #Frame\n",
    "\n",
    "with open('fish.pkl','wb') as fh:\n",
    "     pickle.dump(fish,fh)"
   ]
  },
  {
   "cell_type": "markdown",
   "metadata": {},
   "source": [
    "<div class=\"alert alert-danger\">\n",
    "  <h2>Previous Attempt</h2>\n",
    "</div>"
   ]
  },
  {
   "cell_type": "raw",
   "metadata": {},
   "source": [
    "# Open video file.\n",
    "video_file        = '../Data/SF_n2_t2_3113.mp4'\n",
    "cap               = cv2.VideoCapture(video_file)\n",
    "n_frames          = int(cap.get(cv2.CAP_PROP_FRAME_COUNT))\n",
    "fps               = cap.get(cv2.CAP_PROP_FPS)\n",
    "print(f'{n_frames} frames, {fps} frames per second.')\n",
    "\n",
    "# Contour detection parameters.\n",
    "block_size,offset = 15,13\n",
    "min_area,max_area = 20,1000\n",
    "n_pix             = 5"
   ]
  },
  {
   "cell_type": "markdown",
   "metadata": {
    "toc-hr-collapsed": true,
    "toc-nb-collapsed": true
   },
   "source": [
    "# Creating dataset from file"
   ]
  },
  {
   "cell_type": "markdown",
   "metadata": {},
   "source": [
    "## Manually creates the fish data set from the video file. This cell is currently disabled. "
   ]
  },
  {
   "cell_type": "code",
   "execution_count": null,
   "metadata": {},
   "outputs": [],
   "source": [
    "# List of frames to analyze.\n",
    "#frameID_list = range(5000,50000,50)\n",
    "frameID_list = range(5000,n_frames,1)\n",
    "\n",
    "# Data structure to hold only the pixels belonging to a fish and their brightness.\n",
    "fish = []\n",
    "\n",
    "#Uncomment line to make this cell run, commented to force notebook to use the .pkl file for speed. (This cell takes over an hour.)\n",
    "#for i in frameID_list:\n",
    "    \n",
    "    # Load the frame.\n",
    "    cap.set(cv2.CAP_PROP_POS_FRAMES, i-1)\n",
    "    ret,frame = cap.read()\n",
    "    \n",
    "    # Detect the contours.\n",
    "    contours  = tr.contour_detect(frame,min_area,max_area,block_size,offset,n_pix)\n",
    "    \n",
    "    # Make a mask with value j inside fish number j and -1 elsewhere. \n",
    "    mask      = 0*cv2.cvtColor(frame,cv2.COLOR_BGR2GRAY) - 1\n",
    "    for j in range(len(contours)):\n",
    "        cv2.drawContours(mask, contours, j, j, -1)\n",
    "    \n",
    "    # Make and save a list of each fish's pixels.\n",
    "    pixels=[]\n",
    "    subFish=[]\n",
    "    for j in range(len(contours)):\n",
    "        pixels=(np.nonzero(mask==j))\n",
    "        n =len(pixels[0]) # Number of pixels in J\n",
    "        subSubFish=[]\n",
    "        for k in range(n):\n",
    "            row=pixels[0][k]\n",
    "            col=pixels[1][k]\n",
    "            rgb=frame[row,col]\n",
    "            grey=round(.3*rgb[0]+.59*rgb[1]+.11*rgb[2],2)\n",
    "            subSubFish.append([row,col,grey]) #Pixel\n",
    "        subFish.append(np.array(subSubFish)) #Fish\n",
    "    fish.append(subFish) #Frame\n",
    "\n",
    "with open('fish.pkl','wb') as fh:\n",
    "     pickle.dump(fish,fh)"
   ]
  },
  {
   "cell_type": "markdown",
   "metadata": {},
   "source": [
    "## Reads fish.pkl to create fish."
   ]
  },
  {
   "cell_type": "code",
   "execution_count": 5,
   "metadata": {},
   "outputs": [],
   "source": [
    "with open('fish.pkl','rb') as fh:\n",
    "     fish=pickle.load(fh)"
   ]
  },
  {
   "cell_type": "markdown",
   "metadata": {},
   "source": [
    "# Fish Overlap Check"
   ]
  },
  {
   "cell_type": "markdown",
   "metadata": {},
   "source": [
    "## Checks fish for sections where the program is reading the fish as one object due to proximity, and returns a list of where the fish are not overlapping."
   ]
  },
  {
   "cell_type": "code",
   "execution_count": 6,
   "metadata": {},
   "outputs": [
    {
     "name": "stdout",
     "output_type": "stream",
     "text": [
      "[[0, 137], [138, 204], [207, 247], [248, 371], [379, 624], [625, 916], [918, 1164], [1168, 1203], [1205, 1345], [1351, 1380], [1382, 1804], [1815, 1825], [1826, 2707], [2710, 2785], [2792, 3048], [3061, 3229], [3230, 3233], [3236, 3290], [3295, 3595], [3597, 3598], [3602, 3658], [3661, 3733], [3738, 3770], [3774, 3781], [3788, 3896], [3898, 3918], [3920, 4062], [4068, 4155], [4157, 4389], [4390, 4551], [4552, 4589], [4591, 5152], [5155, 6433], [6434, 6436], [6437, 8500], [8501, 8536], [8549, 8945], [8948, 9123], [9141, 9508], [9539, 9571], [9697, 9947], [9952, 10030], [10040, 10095], [10112, 10208], [10216, 11231], [11235, 11646], [11648, 11653], [11654, 12363], [12364, 12427], [12430, 12567], [12574, 12995], [13006, 13076], [13081, 13913], [13914, 14436], [14439, 14536], [14543, 14580], [14581, 14583], [14584, 14681], [14692, 15300], [15304, 15466], [15470, 15600], [15603, 15826], [15829, 16667], [16671, 17110], [17117, 17463], [17465, 17657], [17660, 17768], [17783, 17947], [17955, 17956], [17958, 18130], [18135, 18165], [18180, 18803], [18810, 18817], [18833, 20039], [20040, 20989], [21001, 21384], [21386, 21400], [21405, 21703], [21707, 21708], [21709, 21761], [21777, 21835], [21838, 22140], [22181, 22210], [22211, 22212], [22213, 22214], [22215, 22224], [22225, 22275], [22278, 22515], [22516, 22525], [22533, 22871], [22875, 23619], [23622, 23671], [23674, 24098], [24108, 26589], [26590, 27290], [27295, 27796], [27801, 27884], [27885, 28087], [28096, 28119], [28132, 28194], [28202, 28321], [28333, 29093], [29109, 29334], [29363, 29485], [29495, 29692], [29701, 29703], [29704, 29889], [29892, 29893], [29899, 29982], [29986, 30272], [30279, 30318], [30319, 30411], [30412, 30504], [30514, 31150], [31154, 31443], [31449, 31777], [31785, 31787], [31788, 31840], [31841, 32097], [32109, 32261], [32267, 32425], [32431, 32751], [32756, 32856], [32857, 33158], [33164, 34970], [34971, 34972], [34975, 35016], [35024, 35051], [35059, 35776], [35782, 35818], [35821, 35822], [35826, 35850], [35854, 35964], [35970, 36036], [36037, 36242], [36245, 36246], [36250, 36396], [36400, 36736], [36737, 36739], [36741, 37716], [37728, 38046], [38054, 38078], [38086, 38265], [38270, 38301], [38304, 38305], [38310, 38489], [38498, 38553], [38560, 38606], [38618, 39234], [39254, 39271], [39280, 39633], [39634, 39636], [39655, 39660], [39672, 39699], [39702, 40311], [40315, 40523], [40532, 40553], [40556, 40671], [40672, 40673], [40675, 41024], [41029, 41066], [41081, 41746], [41750, 41751], [41752, 42116], [42117, 42203], [42204, 42248], [42251, 42278], [42291, 42294], [42313, 42343], [42347, 42537], [42542, 42854], [42865, 43092], [43106, 43463], [43473, 43721], [43723, 43724], [43727, 43735], [43736, 43738], [43739, 43740], [43747, 43861], [43870, 43893], [43901, 44054], [44061, 44069], [44070, 44078], [44095, 44102], [44114, 44157], [44160, 44161], [44162, 44177], [44179, 44368], [44374, 44382], [44386, 44519], [44542, 44662], [44682, 44693], [44708, 44766], [44772, 44783], [44797, 44949], [44952, 45104], [45110, 45395], [45399, 45410], [45423, 45454], [45463, 45478], [45481, 45670], [45676, 46242], [46251, 46305], [46318, 46363], [46365, 46788], [46793, 47060], [47071, 47223], [47237, 47344], [47353, 47392], [47395, 47565], [47569, 47615], [47623, 47673], [47679, 47701], [47703, 47795], [47797, 47798], [47803, 47827], [47829, 48009], [48010, 48012], [48016, 48148], [48153, 48250], [48256, 48268], [48276, 48293], [48296, 48304], [48314, 48319], [48340, 48347], [48352, 48356], [48367, 48371], [48377, 48410], [48424, 48455], [48468, 48555], [48556, 48557], [48565, 48691], [48697, 48925], [48927, 48990], [48991, 49063], [49069, 49273], [49276, 49497], [49500, 49541], [49545, 49550], [49554, 49650], [49651, 49693], [49701, 49719], [49729, 49875], [49876, 49943], [49946, 49948], [49983, 50050], [50052, 50082], [50089, 50532], [50535, 50819], [50829, 51039], [51043, 51214]]\n"
     ]
    }
   ],
   "source": [
    "i2=0\n",
    "nonOverlappingRange=[]\n",
    "while i2<len(fish):\n",
    "    i1=i2\n",
    "    while i1<len(fish) and len(fish[i1])!=2:\n",
    "        i1+=1\n",
    "    i2=i1\n",
    "    while i2 < len(fish) and len(fish[i2])==2:\n",
    "        #find the first overlapping index\n",
    "        i2+=1\n",
    "    nonOverlappingRange.append([i1,i2])\n",
    "print(nonOverlappingRange)"
   ]
  },
  {
   "cell_type": "markdown",
   "metadata": {
    "toc-hr-collapsed": true,
    "toc-nb-collapsed": true
   },
   "source": [
    "## Finds the center of each fish."
   ]
  },
  {
   "cell_type": "code",
   "execution_count": 7,
   "metadata": {},
   "outputs": [],
   "source": [
    "#finding the center of each fish\n",
    "#2 on fily's paper\n",
    "fishMean=[]\n",
    "for i in range(len(fish)):\n",
    "    if len(fish[i])==1:\n",
    "        fishMean.append([[np.mean(fish[i][0].T[0]),np.mean(fish[i][0].T[1])],[np.mean(fish[i][0].T[0]),np.mean(fish[i][0].T[1])]])\n",
    "    else:\n",
    "        fishMean.append([[np.mean(fish[i][0].T[0]),np.mean(fish[i][0].T[1])],[np.mean(fish[i][1].T[0]),np.mean(fish[i][1].T[1])]])\n",
    "fishMean=np.asarray(fishMean)\n",
    "#fishMean[i.j.k] is the coordianate of k of the position of fjsh j in frame i"
   ]
  },
  {
   "cell_type": "markdown",
   "metadata": {
    "toc-hr-collapsed": true,
    "toc-nb-collapsed": true
   },
   "source": [
    "## Measures the distance between each fish during each nonoverlapping section to vertifiy that they are the same fish."
   ]
  },
  {
   "cell_type": "code",
   "execution_count": 8,
   "metadata": {},
   "outputs": [],
   "source": [
    "def swapStatus(pos,i):\n",
    "    '''\n",
    "    Detext swaps between consicutivve framses based on proximity.\n",
    "    \n",
    "    Input:\n",
    "        pos:Postionts. Array with shape (Nframes,Nfish,Ndimensions),\n",
    "        i: Frame index. Int.\n",
    "    \n",
    "    Output:\n",
    "        Int. 0 if no swaps, 1 if swapped, 2 if overlapping.\n",
    "    '''\n",
    "    nFish=pos.shape[1] #Number of fish\n",
    "    distanceMatrix=[np.linalg.norm(pos[i+1][0]-pos[i][0]),\n",
    "                    np.linalg.norm(pos[i+1][1]-pos[i][1]),\n",
    "                    np.linalg.norm(pos[i+1][0]-pos[i][1]),\n",
    "                    np.linalg.norm(pos[i+1][1]-pos[i][0])]\n",
    "    swapCriteron=(distanceMatrix[0]+distanceMatrix[1])-(distanceMatrix[2]+distanceMatrix[3])\n",
    "    if abs(swapCriteron)<1e-10:\n",
    "        return 2 #Overlapping\n",
    "    elif swapCriteron>0:\n",
    "        return 1 #Swapped\n",
    "    elif swapCriteron<0:\n",
    "        return 0 #Normal\n",
    "    else:\n",
    "        return -1"
   ]
  },
  {
   "cell_type": "code",
   "execution_count": 9,
   "metadata": {},
   "outputs": [],
   "source": [
    "def normFunc(pos,i):\n",
    "    '''\n",
    "    Returns the distance between all possible combinations of 4 points to check whether the on or off axis diatance is larger.\n",
    "    \n",
    "    Input:\n",
    "        i: Index, int.\n",
    "    \n",
    "    Output:\n",
    "        1x4 list of distances.\n",
    "    '''\n",
    "    return [np.linalg.norm(pos[i+1][0]-pos[i][0]),\n",
    "           np.linalg.norm(pos[i+1][1]-pos[i][1]),\n",
    "           np.linalg.norm(pos[i+1][0]-pos[i][1]),\n",
    "           np.linalg.norm(pos[i+1][1]-pos[i][0])]\n",
    "\n",
    "\n",
    "fishQuadDistance=[]\n",
    "for i in range(len(fishMean)-1):\n",
    "    #print(i,j)\n",
    "    fishQuadDistance.append(np.array(normFunc(fishMean,i)))\n",
    "fishQuadDistance=np.array(fishQuadDistance)"
   ]
  },
  {
   "cell_type": "markdown",
   "metadata": {
    "toc-hr-collapsed": true,
    "toc-nb-collapsed": true
   },
   "source": [
    "## Unswapping the fish"
   ]
  },
  {
   "cell_type": "code",
   "execution_count": 10,
   "metadata": {},
   "outputs": [],
   "source": [
    "pos=fishMean\n",
    "\n",
    "#Checks for swqps and creates list of swaped points\n",
    "i=0\n",
    "I=[]\n",
    "while i < len(pos):\n",
    "    j=i+1\n",
    "    while j<len(pos)-1 and swapStatus(pos,j)!=1:\n",
    "        j+=1\n",
    "    i=j+1\n",
    "    while i<len(pos)-1 and swapStatus(pos,i)!=1:\n",
    "        i+=1\n",
    "    I.append([j+1,i+1])\n",
    "    \n",
    "# As a natural consequence of how the loop is structured, it creates a pair of points that are outside of the array, which we then need to delete.\n",
    "del(I[-1])"
   ]
  },
  {
   "cell_type": "code",
   "execution_count": 11,
   "metadata": {},
   "outputs": [],
   "source": [
    "posU=fishMean.copy()\n",
    "for j,i in I:\n",
    "    posU[j:i,:]=pos[j:i,[1,0]]\n",
    "\n",
    "status=[]\n",
    "for i in range(len(posU)-1):\n",
    "    status.append(swapStatus(posU,i))"
   ]
  },
  {
   "cell_type": "code",
   "execution_count": 12,
   "metadata": {},
   "outputs": [],
   "source": [
    "fishQuadDistance1=[]\n",
    "for i in range(len(posU)-1):\n",
    "    fishQuadDistance1.append(np.array(normFunc(posU,i)))\n",
    "fishQuadDistance1=np.array(fishQuadDistance1)"
   ]
  },
  {
   "cell_type": "markdown",
   "metadata": {},
   "source": [
    "### Unswapping the original fish file"
   ]
  },
  {
   "cell_type": "code",
   "execution_count": 13,
   "metadata": {},
   "outputs": [],
   "source": [
    "fishU=fish\n",
    "for i1,i2 in I:\n",
    "    for i in range(i1,i2):\n",
    "        if len(fishU[i])==2:\n",
    "            fishU[i][0]=fish[i][1]\n",
    "            fishU[i][1]=fish[i][0]"
   ]
  },
  {
   "cell_type": "markdown",
   "metadata": {},
   "source": [
    "# Dumping resultant data\n",
    "\n",
    "Dumps the sorted fishmeans and the nonOverlappingRange in a pickle file with [posU,nonOverlappingRange]"
   ]
  },
  {
   "cell_type": "code",
   "execution_count": 14,
   "metadata": {},
   "outputs": [],
   "source": [
    "sortedFish=[posU,nonOverlappingRange,fishU]\n",
    "\n",
    "with open('sortedFish.pik','wb') as f:\n",
    "    pickle.dump(sortedFish,f)"
   ]
  },
  {
   "cell_type": "raw",
   "metadata": {},
   "source": [
    "sortedFish={'posU':posU,'nonOverlappingRange':nonOverlappingRange,'fishU':fishU}"
   ]
  },
  {
   "cell_type": "code",
   "execution_count": null,
   "metadata": {},
   "outputs": [],
   "source": []
  }
 ],
 "metadata": {
  "kernelspec": {
   "display_name": "Python 3",
   "language": "python",
   "name": "python3"
  },
  "language_info": {
   "codemirror_mode": {
    "name": "ipython",
    "version": 3
   },
   "file_extension": ".py",
   "mimetype": "text/x-python",
   "name": "python",
   "nbconvert_exporter": "python",
   "pygments_lexer": "ipython3",
   "version": "3.7.3"
  },
  "toc-autonumbering": false,
  "toc-showcode": false,
  "toc-showmarkdowntxt": false
 },
 "nbformat": 4,
 "nbformat_minor": 4
}
