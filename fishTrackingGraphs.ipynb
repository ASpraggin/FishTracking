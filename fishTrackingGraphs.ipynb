{
 "cells": [
  {
   "cell_type": "markdown",
   "metadata": {},
   "source": [
    "# Prerequisites"
   ]
  },
  {
   "cell_type": "code",
   "execution_count": 2,
   "metadata": {},
   "outputs": [],
   "source": [
    "import sys, cv2\n",
    "import numpy as np\n",
    "import tracktor_revised as tr\n",
    "import matplotlib.pyplot as plt\n",
    "import pickle\n",
    "import os"
   ]
  },
  {
   "cell_type": "code",
   "execution_count": 3,
   "metadata": {},
   "outputs": [],
   "source": [
    "with open('fish.pkl','rb') as fh:\n",
    "     fish=pickle.load(fh)"
   ]
  },
  {
   "cell_type": "markdown",
   "metadata": {},
   "source": [
    "# Graphs"
   ]
  },
  {
   "cell_type": "markdown",
   "metadata": {},
   "source": [
    "Creates a histogram of "
   ]
  },
  {
   "cell_type": "code",
   "execution_count": null,
   "metadata": {},
   "outputs": [],
   "source": [
    "bins=np.linspace(0,256,20)\n",
    "plt.figure(figsize=(10,10))\n",
    "colorList=['r','b']\n",
    "xlabel=('')\n",
    "ylabel=('')\n",
    "for i in range(len(fish)):\n",
    "    for j in range(len(fish[i])):\n",
    "        histArray=np.histogram(fish[i][j][:,2],bins=bins)\n",
    "        plt.plot(histArray[1][:-1],histArray[0],color=colorList[j])\n",
    "plt.show()"
   ]
  },
  {
   "cell_type": "markdown",
   "metadata": {},
   "source": [
    "Creates an array of the distance, brightness sum and brightness difference for the frame of greyFish"
   ]
  },
  {
   "cell_type": "code",
   "execution_count": null,
   "metadata": {},
   "outputs": [],
   "source": [
    "pairFrameData=[]\n",
    "for i in range(len(fish)):\n",
    "    for j in range(i):\n",
    "        distance=np.sqrt((fish[i][0][0]-fish[j][0][0])**2+(fish[i][0][1]-fish[j][0][1])**2)\n",
    "        brightness=fish[i][0][2]+fish[j][0][2]\n",
    "        difference=np.absolute(fish[i][0][2]-fish[j][0][2])\n",
    "        pairFrameData.append([distance,brightness,difference])\n",
    "pairFrameData=np.array(pairFrameData).T\n",
    "print(pairFrameData)"
   ]
  },
  {
   "cell_type": "markdown",
   "metadata": {},
   "source": [
    "Creates a 2d histogram of the first frame of greyFish using sum then difference of brightnesses"
   ]
  },
  {
   "cell_type": "code",
   "execution_count": null,
   "metadata": {},
   "outputs": [],
   "source": [
    "histArray=np.histogram(pairFrameData[0])\n",
    "plt.plot(histArray[1][:-1],histArray[0])\n",
    "plt.show()\n",
    "\n",
    "heightValuesSum,bin1Sum,bin2sum=np.histogram2d(pairFrameData[0],pairFrameData[1])\n",
    "plt.hist2d(pairFrameData[0],pairFrameData[1])\n",
    "plt.show()\n",
    "\n",
    "heightValuesDifference,bin1Difference,bin2Difference=np.histogram2d(pairFrameData[0],pairFrameData[2])\n",
    "plt.hist2d(pairFrameData[0],pairFrameData[2])\n",
    "plt.show()"
   ]
  },
  {
   "cell_type": "markdown",
   "metadata": {},
   "source": [
    "Creates an array of the distance difference[0], brightness sum[1], and brightness difference[2] for every frame of greyFish"
   ]
  },
  {
   "cell_type": "code",
   "execution_count": null,
   "metadata": {},
   "outputs": [],
   "source": [
    "#Creates an array of the distance difference[0], brightness sum[1], and brightness difference[2] for every frame of greyFish\n",
    "bins=np.linspace(0,500,20)\n",
    "histDifferenceData=[]\n",
    "for k in range(len(greyFish)):\n",
    "    pairsData=[]\n",
    "    for i in range(greyFish[k].shape[1]):\n",
    "        for j in range(i):\n",
    "            distance=np.sqrt((greyFish[k][0][i]-greyFish[k][0][j])**2+(greyFish[k][1][i]-greyFish[k][1][j])**2)\n",
    "            brightness=greyFish[k][2][i]+greyFish[k][2][j]\n",
    "            difference=np.absolute(greyFish[k][2][i]-greyFish[k][2][j])\n",
    "            pairsData.append([distance,brightness,difference])\n",
    "    pairsData=np.array(pairsData).T\n",
    "    histDifferenceData.append(np.histogram2d(pairsData[0],pairsData[2],bins=[bin1Difference,bin2Difference]))"
   ]
  },
  {
   "cell_type": "code",
   "execution_count": null,
   "metadata": {},
   "outputs": [],
   "source": [
    "#Calculates the euclidan difference between the first frame of histDifferenceData and every other frame using: the distance in [0], the brightnes sums in [1], and the brightness diffrerence in [2]\n",
    "twodDifferenceArray=[]\n",
    "for i in range(len(histDifferenceData)):\n",
    "    twodDifferenceSubArray=[]\n",
    "    twodDifferenceSubArray=np.linalg.norm(histDifferenceData[i][0]-histDifferenceData[0][0])\n",
    "    twodDifferenceArray.append(twodDifferenceSubArray)"
   ]
  },
  {
   "cell_type": "code",
   "execution_count": null,
   "metadata": {},
   "outputs": [],
   "source": [
    "#Plots histogram of distance values\n",
    "histArray=np.histogram(twodDifferenceArray)\n",
    "plt.plot(histArray[1][:-1],histArray[0])\n",
    "plt.show()"
   ]
  }
 ],
 "metadata": {
  "kernelspec": {
   "display_name": "Python 3",
   "language": "python",
   "name": "python3"
  },
  "language_info": {
   "codemirror_mode": {
    "name": "ipython",
    "version": 3
   },
   "file_extension": ".py",
   "mimetype": "text/x-python",
   "name": "python",
   "nbconvert_exporter": "python",
   "pygments_lexer": "ipython3",
   "version": "3.7.0"
  }
 },
 "nbformat": 4,
 "nbformat_minor": 4
}
